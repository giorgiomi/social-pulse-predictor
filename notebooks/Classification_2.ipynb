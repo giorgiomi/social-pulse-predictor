{
 "cells": [
  {
   "cell_type": "markdown",
   "id": "e0a761b4",
   "metadata": {},
   "source": [
    "# Classification with Random Forest Classifier  "
   ]
  },
  {
   "cell_type": "markdown",
   "id": "7b7ac3dd",
   "metadata": {},
   "source": [
    "After cleaning and analysing the dataset we proceed with a classifier, which is carried on with the random forest classifier algorithm"
   ]
  },
  {
   "cell_type": "markdown",
   "id": "c74c2863-a9b0-4c4b-b23d-114435e6899f",
   "metadata": {},
   "source": [
    "![random-forest.jpg](random-forest.jpg)"
   ]
  },
  {
   "cell_type": "markdown",
   "id": "9eb938e7",
   "metadata": {},
   "source": [
    "## Preparing the data "
   ]
  },
  {
   "cell_type": "markdown",
   "id": "31fc9142",
   "metadata": {},
   "source": [
    "We import the relevant libraries from ScikitLearn"
   ]
  },
  {
   "cell_type": "code",
   "execution_count": 2,
   "id": "1c2e6bc9",
   "metadata": {},
   "outputs": [],
   "source": [
    "import pandas as pd\n",
    "from matplotlib import pyplot as plt\n",
    "import seaborn as sns\n",
    "\n",
    "from sklearn.ensemble import RandomForestClassifier\n",
    "from sklearn.model_selection import train_test_split\n",
    "from sklearn.metrics import classification_report, accuracy_score, roc_curve, confusion_matrix\n",
    "from sklearn.preprocessing import StandardScaler\n",
    "from sklearn.preprocessing import LabelEncoder"
   ]
  },
  {
   "cell_type": "markdown",
   "id": "9fd05833-1627-4788-b457-34b904984b09",
   "metadata": {},
   "source": [
    "We import the data from `TWER_grouped_class.csv`:"
   ]
  },
  {
   "cell_type": "code",
   "execution_count": 4,
   "id": "fe0d89b5-614a-4ea7-8e9f-af8a390c29ae",
   "metadata": {},
   "outputs": [],
   "source": [
    "df = pd.read_csv('../data/processed/TWER_grouped_class.csv').drop('Unnamed: 0', axis=1)"
   ]
  },
  {
   "cell_type": "code",
   "execution_count": 5,
   "id": "d6e5267a-7b32-4402-a2a5-44b2150d08f0",
   "metadata": {},
   "outputs": [
    {
     "data": {
      "text/html": [
       "<div>\n",
       "<style scoped>\n",
       "    .dataframe tbody tr th:only-of-type {\n",
       "        vertical-align: middle;\n",
       "    }\n",
       "\n",
       "    .dataframe tbody tr th {\n",
       "        vertical-align: top;\n",
       "    }\n",
       "\n",
       "    .dataframe thead th {\n",
       "        text-align: right;\n",
       "    }\n",
       "</style>\n",
       "<table border=\"1\" class=\"dataframe\">\n",
       "  <thead>\n",
       "    <tr style=\"text-align: right;\">\n",
       "      <th></th>\n",
       "      <th>date</th>\n",
       "      <th>municipality.name</th>\n",
       "      <th>hour_category</th>\n",
       "      <th>temperature</th>\n",
       "      <th>minTemperature</th>\n",
       "      <th>maxTemperature</th>\n",
       "      <th>precipitation</th>\n",
       "      <th>wind_speed</th>\n",
       "      <th>wind_dir</th>\n",
       "      <th>curr_cell</th>\n",
       "      <th>curr_site</th>\n",
       "      <th>population</th>\n",
       "      <th>elevation</th>\n",
       "      <th>tweet_count</th>\n",
       "      <th>month</th>\n",
       "      <th>day</th>\n",
       "      <th>day_of_week</th>\n",
       "      <th>class</th>\n",
       "    </tr>\n",
       "  </thead>\n",
       "  <tbody>\n",
       "    <tr>\n",
       "      <th>0</th>\n",
       "      <td>2013-11-01</td>\n",
       "      <td>Andalo</td>\n",
       "      <td>A</td>\n",
       "      <td>9.200000</td>\n",
       "      <td>8.5</td>\n",
       "      <td>12.000000</td>\n",
       "      <td>0.0</td>\n",
       "      <td>NaN</td>\n",
       "      <td>NaN</td>\n",
       "      <td>0.000000</td>\n",
       "      <td>0.000000</td>\n",
       "      <td>1024.0</td>\n",
       "      <td>1042.0</td>\n",
       "      <td>1</td>\n",
       "      <td>11</td>\n",
       "      <td>1</td>\n",
       "      <td>4</td>\n",
       "      <td>Low</td>\n",
       "    </tr>\n",
       "    <tr>\n",
       "      <th>1</th>\n",
       "      <td>2013-11-01</td>\n",
       "      <td>Baselga di Pinè</td>\n",
       "      <td>B</td>\n",
       "      <td>11.533333</td>\n",
       "      <td>8.0</td>\n",
       "      <td>13.733333</td>\n",
       "      <td>0.0</td>\n",
       "      <td>0.2</td>\n",
       "      <td>236.0</td>\n",
       "      <td>5.996413</td>\n",
       "      <td>0.016458</td>\n",
       "      <td>4928.0</td>\n",
       "      <td>964.0</td>\n",
       "      <td>3</td>\n",
       "      <td>11</td>\n",
       "      <td>1</td>\n",
       "      <td>4</td>\n",
       "      <td>Medium</td>\n",
       "    </tr>\n",
       "    <tr>\n",
       "      <th>2</th>\n",
       "      <td>2013-11-01</td>\n",
       "      <td>Baselga di Pinè</td>\n",
       "      <td>C</td>\n",
       "      <td>11.433333</td>\n",
       "      <td>7.3</td>\n",
       "      <td>12.966667</td>\n",
       "      <td>0.0</td>\n",
       "      <td>0.0</td>\n",
       "      <td>184.0</td>\n",
       "      <td>10.637787</td>\n",
       "      <td>0.017426</td>\n",
       "      <td>4928.0</td>\n",
       "      <td>964.0</td>\n",
       "      <td>3</td>\n",
       "      <td>11</td>\n",
       "      <td>1</td>\n",
       "      <td>4</td>\n",
       "      <td>Medium</td>\n",
       "    </tr>\n",
       "    <tr>\n",
       "      <th>3</th>\n",
       "      <td>2013-11-01</td>\n",
       "      <td>Baselga di Pinè</td>\n",
       "      <td>D</td>\n",
       "      <td>9.350000</td>\n",
       "      <td>6.6</td>\n",
       "      <td>12.200000</td>\n",
       "      <td>0.0</td>\n",
       "      <td>NaN</td>\n",
       "      <td>NaN</td>\n",
       "      <td>18.809585</td>\n",
       "      <td>0.024556</td>\n",
       "      <td>4928.0</td>\n",
       "      <td>964.0</td>\n",
       "      <td>2</td>\n",
       "      <td>11</td>\n",
       "      <td>1</td>\n",
       "      <td>4</td>\n",
       "      <td>Medium</td>\n",
       "    </tr>\n",
       "    <tr>\n",
       "      <th>4</th>\n",
       "      <td>2013-11-01</td>\n",
       "      <td>Bedollo</td>\n",
       "      <td>B</td>\n",
       "      <td>14.120000</td>\n",
       "      <td>8.7</td>\n",
       "      <td>14.500000</td>\n",
       "      <td>0.0</td>\n",
       "      <td>0.3</td>\n",
       "      <td>232.5</td>\n",
       "      <td>0.383955</td>\n",
       "      <td>0.015358</td>\n",
       "      <td>1476.0</td>\n",
       "      <td>1059.0</td>\n",
       "      <td>5</td>\n",
       "      <td>11</td>\n",
       "      <td>1</td>\n",
       "      <td>4</td>\n",
       "      <td>Medium</td>\n",
       "    </tr>\n",
       "  </tbody>\n",
       "</table>\n",
       "</div>"
      ],
      "text/plain": [
       "         date municipality.name hour_category  temperature  minTemperature  \\\n",
       "0  2013-11-01            Andalo             A     9.200000             8.5   \n",
       "1  2013-11-01   Baselga di Pinè             B    11.533333             8.0   \n",
       "2  2013-11-01   Baselga di Pinè             C    11.433333             7.3   \n",
       "3  2013-11-01   Baselga di Pinè             D     9.350000             6.6   \n",
       "4  2013-11-01           Bedollo             B    14.120000             8.7   \n",
       "\n",
       "   maxTemperature  precipitation  wind_speed  wind_dir  curr_cell  curr_site  \\\n",
       "0       12.000000            0.0         NaN       NaN   0.000000   0.000000   \n",
       "1       13.733333            0.0         0.2     236.0   5.996413   0.016458   \n",
       "2       12.966667            0.0         0.0     184.0  10.637787   0.017426   \n",
       "3       12.200000            0.0         NaN       NaN  18.809585   0.024556   \n",
       "4       14.500000            0.0         0.3     232.5   0.383955   0.015358   \n",
       "\n",
       "   population  elevation  tweet_count  month  day  day_of_week   class  \n",
       "0      1024.0     1042.0            1     11    1            4     Low  \n",
       "1      4928.0      964.0            3     11    1            4  Medium  \n",
       "2      4928.0      964.0            3     11    1            4  Medium  \n",
       "3      4928.0      964.0            2     11    1            4  Medium  \n",
       "4      1476.0     1059.0            5     11    1            4  Medium  "
      ]
     },
     "execution_count": 5,
     "metadata": {},
     "output_type": "execute_result"
    }
   ],
   "source": [
    "df.head()"
   ]
  },
  {
   "cell_type": "markdown",
   "id": "a17a18e7-641c-47d1-b3a1-a5cd601c1b23",
   "metadata": {},
   "source": [
    "Before continuing, we need to remove the last day (2013-12-31), on which we will make the prediction."
   ]
  },
  {
   "cell_type": "code",
   "execution_count": 6,
   "id": "c958da79-20ec-4f80-bc5c-8fb1ee69fa37",
   "metadata": {},
   "outputs": [],
   "source": [
    "df = df[df['day'] != 31]"
   ]
  },
  {
   "cell_type": "markdown",
   "id": "2c4a58b9-decf-4bf0-9b61-403b01eb422a",
   "metadata": {},
   "source": [
    "Let's divide `df` into features and target:"
   ]
  },
  {
   "cell_type": "code",
   "execution_count": 7,
   "id": "b814363c-dbb1-494d-9b89-07556e98b9f2",
   "metadata": {},
   "outputs": [],
   "source": [
    "X = df.drop('class', axis=1)\n",
    "y = df['class']  # target is the multi-class label (High, Medium, Low)"
   ]
  },
  {
   "cell_type": "markdown",
   "id": "b0b6251c",
   "metadata": {},
   "source": [
    "We now preprocess the data. \n",
    "The classifier only really accepts numbers as an input, so string-to-number conversion of categorical data is essential.\n",
    "Since this process only concerns categorical data,  we need to split numerical and categorical features first. Second, we enconde the categorical data with label encoding. We then scale the numerical features, convert them back to dataframe form and finally recombine categorical and numerical data"
   ]
  },
  {
   "cell_type": "code",
   "execution_count": 8,
   "id": "b5aa2d7f-babd-4e89-879a-1c8e33537fc6",
   "metadata": {},
   "outputs": [
    {
     "data": {
      "text/plain": [
       "Index(['date', 'municipality.name', 'hour_category', 'temperature',\n",
       "       'minTemperature', 'maxTemperature', 'precipitation', 'wind_speed',\n",
       "       'wind_dir', 'curr_cell', 'curr_site', 'population', 'elevation',\n",
       "       'tweet_count', 'month', 'day', 'day_of_week'],\n",
       "      dtype='object')"
      ]
     },
     "execution_count": 8,
     "metadata": {},
     "output_type": "execute_result"
    }
   ],
   "source": [
    "X.columns"
   ]
  },
  {
   "cell_type": "code",
   "execution_count": 9,
   "id": "7e0f3857",
   "metadata": {},
   "outputs": [],
   "source": [
    "def preprocess_data(df, categorical_features, numerical_features):\n",
    "    # Encode categorical features\n",
    "    le = LabelEncoder()\n",
    "    for feat in categorical_features:\n",
    "        df[feat] = le.fit_transform(df[feat])\n",
    "    \n",
    "    # Scale numerical features\n",
    "    scaler = StandardScaler()\n",
    "    scaled_numerical = scaler.fit_transform(df[numerical_features])\n",
    "    \n",
    "    scaled_numerical_df = pd.DataFrame(scaled_numerical, columns=numerical_features)\n",
    "    \n",
    "    # Combine scaled numerical and encoded categorical features\n",
    "    df = pd.concat([scaled_numerical_df, df[categorical_features].astype('category')], axis=1)\n",
    "    \n",
    "    return df\n"
   ]
  },
  {
   "cell_type": "code",
   "execution_count": 10,
   "id": "e7865946-bc01-4bc1-a5b6-272a96782706",
   "metadata": {},
   "outputs": [
    {
     "data": {
      "text/html": [
       "<div>\n",
       "<style scoped>\n",
       "    .dataframe tbody tr th:only-of-type {\n",
       "        vertical-align: middle;\n",
       "    }\n",
       "\n",
       "    .dataframe tbody tr th {\n",
       "        vertical-align: top;\n",
       "    }\n",
       "\n",
       "    .dataframe thead th {\n",
       "        text-align: right;\n",
       "    }\n",
       "</style>\n",
       "<table border=\"1\" class=\"dataframe\">\n",
       "  <thead>\n",
       "    <tr style=\"text-align: right;\">\n",
       "      <th></th>\n",
       "      <th>date</th>\n",
       "      <th>municipality.name</th>\n",
       "      <th>hour_category</th>\n",
       "      <th>temperature</th>\n",
       "      <th>minTemperature</th>\n",
       "      <th>maxTemperature</th>\n",
       "      <th>precipitation</th>\n",
       "      <th>wind_speed</th>\n",
       "      <th>wind_dir</th>\n",
       "      <th>curr_cell</th>\n",
       "      <th>curr_site</th>\n",
       "      <th>population</th>\n",
       "      <th>elevation</th>\n",
       "      <th>tweet_count</th>\n",
       "      <th>month</th>\n",
       "      <th>day</th>\n",
       "      <th>day_of_week</th>\n",
       "    </tr>\n",
       "  </thead>\n",
       "  <tbody>\n",
       "    <tr>\n",
       "      <th>0</th>\n",
       "      <td>2013-11-01</td>\n",
       "      <td>Andalo</td>\n",
       "      <td>A</td>\n",
       "      <td>9.200000</td>\n",
       "      <td>8.5</td>\n",
       "      <td>12.000000</td>\n",
       "      <td>0.0</td>\n",
       "      <td>NaN</td>\n",
       "      <td>NaN</td>\n",
       "      <td>0.000000</td>\n",
       "      <td>0.000000</td>\n",
       "      <td>1024.0</td>\n",
       "      <td>1042.0</td>\n",
       "      <td>1</td>\n",
       "      <td>11</td>\n",
       "      <td>1</td>\n",
       "      <td>4</td>\n",
       "    </tr>\n",
       "    <tr>\n",
       "      <th>1</th>\n",
       "      <td>2013-11-01</td>\n",
       "      <td>Baselga di Pinè</td>\n",
       "      <td>B</td>\n",
       "      <td>11.533333</td>\n",
       "      <td>8.0</td>\n",
       "      <td>13.733333</td>\n",
       "      <td>0.0</td>\n",
       "      <td>0.2</td>\n",
       "      <td>236.0</td>\n",
       "      <td>5.996413</td>\n",
       "      <td>0.016458</td>\n",
       "      <td>4928.0</td>\n",
       "      <td>964.0</td>\n",
       "      <td>3</td>\n",
       "      <td>11</td>\n",
       "      <td>1</td>\n",
       "      <td>4</td>\n",
       "    </tr>\n",
       "    <tr>\n",
       "      <th>2</th>\n",
       "      <td>2013-11-01</td>\n",
       "      <td>Baselga di Pinè</td>\n",
       "      <td>C</td>\n",
       "      <td>11.433333</td>\n",
       "      <td>7.3</td>\n",
       "      <td>12.966667</td>\n",
       "      <td>0.0</td>\n",
       "      <td>0.0</td>\n",
       "      <td>184.0</td>\n",
       "      <td>10.637787</td>\n",
       "      <td>0.017426</td>\n",
       "      <td>4928.0</td>\n",
       "      <td>964.0</td>\n",
       "      <td>3</td>\n",
       "      <td>11</td>\n",
       "      <td>1</td>\n",
       "      <td>4</td>\n",
       "    </tr>\n",
       "    <tr>\n",
       "      <th>3</th>\n",
       "      <td>2013-11-01</td>\n",
       "      <td>Baselga di Pinè</td>\n",
       "      <td>D</td>\n",
       "      <td>9.350000</td>\n",
       "      <td>6.6</td>\n",
       "      <td>12.200000</td>\n",
       "      <td>0.0</td>\n",
       "      <td>NaN</td>\n",
       "      <td>NaN</td>\n",
       "      <td>18.809585</td>\n",
       "      <td>0.024556</td>\n",
       "      <td>4928.0</td>\n",
       "      <td>964.0</td>\n",
       "      <td>2</td>\n",
       "      <td>11</td>\n",
       "      <td>1</td>\n",
       "      <td>4</td>\n",
       "    </tr>\n",
       "    <tr>\n",
       "      <th>4</th>\n",
       "      <td>2013-11-01</td>\n",
       "      <td>Bedollo</td>\n",
       "      <td>B</td>\n",
       "      <td>14.120000</td>\n",
       "      <td>8.7</td>\n",
       "      <td>14.500000</td>\n",
       "      <td>0.0</td>\n",
       "      <td>0.3</td>\n",
       "      <td>232.5</td>\n",
       "      <td>0.383955</td>\n",
       "      <td>0.015358</td>\n",
       "      <td>1476.0</td>\n",
       "      <td>1059.0</td>\n",
       "      <td>5</td>\n",
       "      <td>11</td>\n",
       "      <td>1</td>\n",
       "      <td>4</td>\n",
       "    </tr>\n",
       "  </tbody>\n",
       "</table>\n",
       "</div>"
      ],
      "text/plain": [
       "         date municipality.name hour_category  temperature  minTemperature  \\\n",
       "0  2013-11-01            Andalo             A     9.200000             8.5   \n",
       "1  2013-11-01   Baselga di Pinè             B    11.533333             8.0   \n",
       "2  2013-11-01   Baselga di Pinè             C    11.433333             7.3   \n",
       "3  2013-11-01   Baselga di Pinè             D     9.350000             6.6   \n",
       "4  2013-11-01           Bedollo             B    14.120000             8.7   \n",
       "\n",
       "   maxTemperature  precipitation  wind_speed  wind_dir  curr_cell  curr_site  \\\n",
       "0       12.000000            0.0         NaN       NaN   0.000000   0.000000   \n",
       "1       13.733333            0.0         0.2     236.0   5.996413   0.016458   \n",
       "2       12.966667            0.0         0.0     184.0  10.637787   0.017426   \n",
       "3       12.200000            0.0         NaN       NaN  18.809585   0.024556   \n",
       "4       14.500000            0.0         0.3     232.5   0.383955   0.015358   \n",
       "\n",
       "   population  elevation  tweet_count  month  day  day_of_week  \n",
       "0      1024.0     1042.0            1     11    1            4  \n",
       "1      4928.0      964.0            3     11    1            4  \n",
       "2      4928.0      964.0            3     11    1            4  \n",
       "3      4928.0      964.0            2     11    1            4  \n",
       "4      1476.0     1059.0            5     11    1            4  "
      ]
     },
     "execution_count": 10,
     "metadata": {},
     "output_type": "execute_result"
    }
   ],
   "source": [
    "X.head()"
   ]
  },
  {
   "cell_type": "markdown",
   "id": "927abcda",
   "metadata": {},
   "source": [
    "This is now a dataframe we can work with. "
   ]
  },
  {
   "cell_type": "markdown",
   "id": "6322e803",
   "metadata": {},
   "source": [
    "Now we prepare for the regression by splitting Train Data and Test Data. \n",
    "We want the test data to be the 20% of the data available (test_size=0.2) and we want to fix a random_state value of 20. \n",
    "\n",
    "This is basically like a seed and assures the \"random behaviour\" of the forest, to be always the same if we run the program the program multiple times. \n",
    "\n",
    "In the fase of tuning repeatability is essential, because it is the only way to reliably tune the parameters of the model. \n",
    "We then initialise and train the classifier. \n",
    "\n",
    "Note : RandomForestClassifier(random_state=20)\n",
    "In a Jupyter environment, please rerun this cell to show the HTML representation or trust the notebook.\n",
    "On GitHub, the HTML representation is unable to render, please try loading this page with nbviewer.org."
   ]
  },
  {
   "cell_type": "code",
   "execution_count": 17,
   "id": "454128d5",
   "metadata": {},
   "outputs": [],
   "source": [
    "def train_and_evaluate(X, y, n_estimators, max_depth=None):\n",
    "    X_train, X_test, y_train, y_test = train_test_split(X, y, test_size=0.2, random_state=20)\n",
    "    \n",
    "    # Initialize Random Forest Classifier\n",
    "    rf_classifier = RandomForestClassifier(n_estimators=n_estimators, max_depth=max_depth, random_state=20)\n",
    "    \n",
    "    # Train the classifier\n",
    "    rf_classifier.fit(X_train, y_train)\n",
    "    \n",
    "    # Predictions\n",
    "    y_pred = rf_classifier.predict(X_test)\n",
    "    \n",
    "    # Print results\n",
    "    print(f\"Accuracy with n_estimators={n_estimators} and max_depth={max_depth}: {accuracy_score(y_test, y_pred)}\")\n",
    "    print(classification_report(y_test, y_pred))\n",
    "    \n",
    "    # Confusion matrix\n",
    "    conf_matrix = confusion_matrix(y_test, y_pred)\n",
    "    ax = plt.subplot()\n",
    "    sns.heatmap(conf_matrix, annot=True, fmt='g', ax=ax)\n",
    "    ax.xaxis.set_ticklabels(['high', 'low', 'medium'])\n",
    "    ax.yaxis.set_ticklabels(['high', 'low', 'medium'])\n",
    "    plt.show()\n",
    "    \n",
    "    return conf_matrix\n"
   ]
  },
  {
   "cell_type": "markdown",
   "id": "29412ed9",
   "metadata": {},
   "source": [
    "In the developement of our analysis we noticed that it was not obvious wether to use all the data we had available or just a part of that. We intend to discuss this matter by examining two data sets: one hat basically trains exlusively on tweet counts and the ARPA's whether data and the largest possible dataset, which also has electrical data and other potentially meaningful categorical features such as 'hour_category', 'month', 'day_of_week', 'population', 'elevation'. \n",
    "Naturally these data appear with their relative time slot and municipality. \n",
    "We do the traing for both dataset with respectively a little forest (n_estimators=2, max_depht=4) and a large forest (n_estimatprs=100, no max_depht). \n",
    "In order to do that we created a function that will execute, with any given parameter, all the steps of our classification. \n",
    "Indeed the fucntion \n",
    "1) splits the data set in training and test data \n",
    "2) Trains the Classifier \n",
    "3) Comutes the prediction\n",
    "4) Prints all the meaningful extimators\n",
    "5) Plots the confusion matrix and the heatmap \n"
   ]
  },
  {
   "cell_type": "markdown",
   "id": "e7b25ed9",
   "metadata": {},
   "source": [
    "We create the two relevant Dataframes : "
   ]
  },
  {
   "cell_type": "code",
   "execution_count": 27,
   "id": "fc9a756f",
   "metadata": {},
   "outputs": [],
   "source": [
    "# Dataset 1 (weather data)\n",
    "X_weather = df.drop('class', axis=1).drop(['curr_cell', 'curr_site', 'population', 'elevation'], axis=1)\n",
    "y_weather = df['class']\n",
    "\n",
    "# Categorical and numerical features\n",
    "categorical_features_weather = ['date', 'municipality.name', 'hour_category', 'month', 'day_of_week']\n",
    "numerical_features_weather = ['temperature', 'minTemperature', 'maxTemperature', 'precipitation', 'wind_speed', 'wind_dir', 'tweet_count', 'day']\n",
    "\n",
    "# Preprocess Dataset 1\n",
    "X_weather = preprocess_data(X_weather, categorical_features_weather, numerical_features_weather)\n"
   ]
  },
  {
   "cell_type": "code",
   "execution_count": 28,
   "id": "3de1b7eb",
   "metadata": {},
   "outputs": [],
   "source": [
    "# Dataset 2 (weather + other)\n",
    "X_additional = df.drop('class', axis=1)\n",
    "y_additional = df['class']\n",
    "\n",
    "# Categorical and numerical features\n",
    "categorical_features_additional = ['date', 'municipality.name', 'hour_category', 'month', 'day_of_week']\n",
    "numerical_features_additional = ['temperature', 'minTemperature', 'maxTemperature', 'precipitation', 'wind_speed', 'wind_dir', \n",
    "                                 'curr_cell', 'population', 'elevation', 'curr_site', 'tweet_count', 'day']\n",
    "\n",
    "# Preprocess Dataset 2\n",
    "X_additional = preprocess_data(X_additional, categorical_features_additional, numerical_features_additional)\n"
   ]
  },
  {
   "cell_type": "markdown",
   "id": "34ed5dae",
   "metadata": {},
   "source": [
    "We herby presents all the different scenarios "
   ]
  },
  {
   "cell_type": "code",
   "execution_count": 29,
   "id": "11eaf990",
   "metadata": {},
   "outputs": [
    {
     "name": "stdout",
     "output_type": "stream",
     "text": [
      "Scenario 1: Weather Data with n_estimators=4 and max_depth=4\n",
      "Accuracy with n_estimators=4 and max_depth=4: 0.9712820512820513\n",
      "              precision    recall  f1-score   support\n",
      "\n",
      "        High       1.00      0.24      0.39        37\n",
      "         Low       1.00      1.00      1.00       441\n",
      "      Medium       0.95      1.00      0.97       497\n",
      "\n",
      "    accuracy                           0.97       975\n",
      "   macro avg       0.98      0.75      0.79       975\n",
      "weighted avg       0.97      0.97      0.96       975\n",
      "\n"
     ]
    },
    {
     "data": {
      "image/png": "[encoded data removed]",
      "text/plain": [
       "<Figure size 640x480 with 2 Axes>"
      ]
     },
     "metadata": {},
     "output_type": "display_data"
    }
   ],
   "source": [
    "print(\"Scenario 1: Weather Data with n_estimators=4 and max_depth=4\")\n",
    "conf_matrix1 = train_and_evaluate(X_weather, y_weather, n_estimators=4, max_depth=4)"
   ]
  },
  {
   "cell_type": "code",
   "execution_count": 30,
   "id": "a9ecae4b",
   "metadata": {
    "scrolled": true
   },
   "outputs": [
    {
     "name": "stdout",
     "output_type": "stream",
     "text": [
      "Scenario 2: Weather + Additional Data with n_estimators=4 and max_depth=4\n",
      "Accuracy with n_estimators=4 and max_depth=4: 0.9835897435897436\n",
      "              precision    recall  f1-score   support\n",
      "\n",
      "        High       1.00      0.62      0.77        37\n",
      "         Low       1.00      1.00      1.00       441\n",
      "      Medium       0.97      1.00      0.98       497\n",
      "\n",
      "    accuracy                           0.98       975\n",
      "   macro avg       0.99      0.87      0.92       975\n",
      "weighted avg       0.98      0.98      0.98       975\n",
      "\n"
     ]
    },
    {
     "data": {
      "image/png": "[encoded data removed]",
      "text/plain": [
       "<Figure size 640x480 with 2 Axes>"
      ]
     },
     "metadata": {},
     "output_type": "display_data"
    }
   ],
   "source": [
    "print(\"Scenario 2: Weather + Additional Data with n_estimators=4 and max_depth=4\")\n",
    "conf_matrix2 = train_and_evaluate(X_additional, y_additional, n_estimators=4, max_depth=4)\n"
   ]
  },
  {
   "cell_type": "code",
   "execution_count": 31,
   "id": "d6c17c2a",
   "metadata": {},
   "outputs": [
    {
     "name": "stdout",
     "output_type": "stream",
     "text": [
      "Scenario 3: Weather Data with n_estimators=100 and no max_depth\n",
      "Accuracy with n_estimators=100 and max_depth=None: 0.997948717948718\n",
      "              precision    recall  f1-score   support\n",
      "\n",
      "        High       1.00      0.95      0.97        37\n",
      "         Low       1.00      1.00      1.00       441\n",
      "      Medium       1.00      1.00      1.00       497\n",
      "\n",
      "    accuracy                           1.00       975\n",
      "   macro avg       1.00      0.98      0.99       975\n",
      "weighted avg       1.00      1.00      1.00       975\n",
      "\n"
     ]
    },
    {
     "data": {
      "image/png": "[encoded data removed]",
      "text/plain": [
       "<Figure size 640x480 with 2 Axes>"
      ]
     },
     "metadata": {},
     "output_type": "display_data"
    }
   ],
   "source": [
    "print(\"Scenario 3: Weather Data with n_estimators=100 and no max_depth\")\n",
    "conf_matrix3 = train_and_evaluate(X_weather, y_weather, n_estimators=100, max_depth=None)\n"
   ]
  },
  {
   "cell_type": "code",
   "execution_count": 32,
   "id": "cae66fa9",
   "metadata": {},
   "outputs": [
    {
     "name": "stdout",
     "output_type": "stream",
     "text": [
      "Scenario 4: Weather + Additional Data with n_estimators=100 and no max_depth\n",
      "Accuracy with n_estimators=100 and max_depth=None: 0.9989743589743589\n",
      "              precision    recall  f1-score   support\n",
      "\n",
      "        High       1.00      0.97      0.99        37\n",
      "         Low       1.00      1.00      1.00       441\n",
      "      Medium       1.00      1.00      1.00       497\n",
      "\n",
      "    accuracy                           1.00       975\n",
      "   macro avg       1.00      0.99      1.00       975\n",
      "weighted avg       1.00      1.00      1.00       975\n",
      "\n"
     ]
    },
    {
     "data": {
      "image/png": "[encoded data removed]",
      "text/plain": [
       "<Figure size 640x480 with 2 Axes>"
      ]
     },
     "metadata": {},
     "output_type": "display_data"
    }
   ],
   "source": [
    "print(\"Scenario 4: Weather + Additional Data with n_estimators=100 and no max_depth\")\n",
    "conf_matrix4 = train_and_evaluate(X_additional, y_additional, n_estimators=100, max_depth=None)\n"
   ]
  },
  {
   "cell_type": "markdown",
   "id": "26cae823",
   "metadata": {},
   "source": [
    "This result is not obvious, the so called additional data are not correlated as well to tweet count as the whether data, the risk of redundancy or even insignificance of the dataset is high. Indeed form a first trial it seemed to us the results went in this direction. The risk ov oferfitting for a larger dataset is high if there are redundancies , since the model may overlearn patterns. If the \"additional data\" introduces noise insted of information, it's better to remove that part of the dataset entirely. \n",
    "Nevertheless we notice a neat improvement by introducing new data and this signals that the additional data is indeed informative. \n",
    "Beyond that, what we notice is that little forests perform way worse tham larger forest, a more in depht  training and a meaningul number of extimators is crucial to generalisation. \n",
    "This does not depend on the dataset but it is very general, the eventual point in setting a low number of extimators and max_depht parameter is to make the training computationally feasible, but for us it's no problem since the whole process is very fast. If we were to anlayse the telecommunication data , the correct approach may very well be using low max_depht and low n_extimators. \n",
    "\n",
    "As indicated by the the accuracy, the classifier always works fine, even in the little forest case. \n",
    "In the last case (larger forest on larger dataset)  we see the promising result of just one misclassification.\n",
    "\n",
    "We point out that, as emerges form the confusion matrix, the error type is (almost) always the same in the four cases: some municipalities, which are predicted to be in the middle tweet count range, actually end up to be in the high tweet count range.\n",
    "\n",
    "This makes sense, because, whereas there are not many events outside our dataset which can cause great short term depression in the tweet count, there are lots of social events that may cause an occasional peak in the tweet count. In the dates 13 and 14 Decembers 2013, which present the greatest tweet predictive mistake, a big event called \"Universiadi \" was held in the municipality of Trento, where such peak is registered.\n",
    "\n",
    "\n"
   ]
  }
 ],
 "metadata": {
  "kernelspec": {
   "display_name": "Python 3 (ipykernel)",
   "language": "python",
   "name": "python3"
  },
  "language_info": {
   "codemirror_mode": {
    "name": "ipython",
    "version": 3
   },
   "file_extension": ".py",
   "mimetype": "text/x-python",
   "name": "python",
   "nbconvert_exporter": "python",
   "pygments_lexer": "ipython3",
   "version": "3.11.8"
  }
 },
 "nbformat": 4,
 "nbformat_minor": 5
}
