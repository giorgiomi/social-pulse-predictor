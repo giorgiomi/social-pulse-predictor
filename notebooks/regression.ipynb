{
 "cells": [
  {
   "cell_type": "markdown",
   "id": "2907e473",
   "metadata": {},
   "source": [
    "# Regression with Random Forest Regressor "
   ]
  },
  {
   "cell_type": "markdown",
   "id": "d3eb96a1-f98a-46ae-97e3-525edc8bcaca",
   "metadata": {},
   "source": [
    "This notebook contains the regression part of the project, where we try to predict the number of tweets for December 31st, given the features of that day."
   ]
  },
  {
   "cell_type": "markdown",
   "id": "3fe70668-fa18-49b6-9844-8f742f1a9d0a",
   "metadata": {},
   "source": [
    "![random-forest.jpg](random-forest.jpg)"
   ]
  },
  {
   "cell_type": "markdown",
   "id": "1a8e89c6",
   "metadata": {},
   "source": [
    "We start by importing all the necessary libraries and by loading the data "
   ]
  },
  {
   "cell_type": "code",
   "execution_count": 1,
   "id": "8d5c7b5a",
   "metadata": {
    "tags": []
   },
   "outputs": [],
   "source": [
    "import pandas as pd\n",
    "import geopandas as gpd\n",
    "import matplotlib.pyplot as plt\n",
    "import seaborn as sns\n",
    "import numpy as np\n",
    "\n",
    "import ydata_profiling\n",
    "from ydata_profiling import ProfileReport\n",
    "\n",
    "from shapely import wkt\n",
    "\n",
    "from sklearn.ensemble import RandomForestRegressor\n",
    "from sklearn.model_selection import train_test_split\n",
    "from sklearn.preprocessing import LabelEncoder, StandardScaler\n",
    "from sklearn.metrics import mean_absolute_error, r2_score, mean_squared_error\n",
    "\n",
    "import warnings\n",
    "warnings.filterwarnings('ignore')"
   ]
  },
  {
   "cell_type": "markdown",
   "id": "253a7691-9306-4fbb-935c-ecf586d56c85",
   "metadata": {},
   "source": [
    "## Preparing data"
   ]
  },
  {
   "cell_type": "markdown",
   "id": "82919156-e772-4274-8409-aa9b7b705037",
   "metadata": {},
   "source": [
    "We import the data from `TWER_grouped.csv` beacuse we don't need classes here."
   ]
  },
  {
   "cell_type": "code",
   "execution_count": 2,
   "id": "fa41ceed",
   "metadata": {
    "tags": []
   },
   "outputs": [],
   "source": [
    "df = pd.read_csv(\"../data/processed/TWER_grouped.csv\")"
   ]
  },
  {
   "cell_type": "code",
   "execution_count": 3,
   "id": "b6298166",
   "metadata": {
    "tags": []
   },
   "outputs": [],
   "source": [
    "df = df.drop(['Unnamed: 0'], axis=1)"
   ]
  },
  {
   "cell_type": "code",
   "execution_count": 4,
   "id": "974b68b4",
   "metadata": {
    "tags": []
   },
   "outputs": [
    {
     "data": {
      "text/html": [
       "<div>\n",
       "<style scoped>\n",
       "    .dataframe tbody tr th:only-of-type {\n",
       "        vertical-align: middle;\n",
       "    }\n",
       "\n",
       "    .dataframe tbody tr th {\n",
       "        vertical-align: top;\n",
       "    }\n",
       "\n",
       "    .dataframe thead th {\n",
       "        text-align: right;\n",
       "    }\n",
       "</style>\n",
       "<table border=\"1\" class=\"dataframe\">\n",
       "  <thead>\n",
       "    <tr style=\"text-align: right;\">\n",
       "      <th></th>\n",
       "      <th>date</th>\n",
       "      <th>municipality.name</th>\n",
       "      <th>hour_category</th>\n",
       "      <th>temperature</th>\n",
       "      <th>minTemperature</th>\n",
       "      <th>maxTemperature</th>\n",
       "      <th>precipitation</th>\n",
       "      <th>wind_speed</th>\n",
       "      <th>wind_dir</th>\n",
       "      <th>curr_cell</th>\n",
       "      <th>curr_site</th>\n",
       "      <th>population</th>\n",
       "      <th>elevation</th>\n",
       "      <th>tweet_count</th>\n",
       "      <th>month</th>\n",
       "      <th>day</th>\n",
       "      <th>day_of_week</th>\n",
       "    </tr>\n",
       "  </thead>\n",
       "  <tbody>\n",
       "    <tr>\n",
       "      <th>0</th>\n",
       "      <td>2013-11-01</td>\n",
       "      <td>Andalo</td>\n",
       "      <td>A</td>\n",
       "      <td>9.200000</td>\n",
       "      <td>8.5</td>\n",
       "      <td>12.000000</td>\n",
       "      <td>0.0</td>\n",
       "      <td>NaN</td>\n",
       "      <td>NaN</td>\n",
       "      <td>0.000000</td>\n",
       "      <td>0.000000</td>\n",
       "      <td>1024.0</td>\n",
       "      <td>1042.0</td>\n",
       "      <td>1</td>\n",
       "      <td>11</td>\n",
       "      <td>1</td>\n",
       "      <td>4</td>\n",
       "    </tr>\n",
       "    <tr>\n",
       "      <th>1</th>\n",
       "      <td>2013-11-01</td>\n",
       "      <td>Baselga di Pinè</td>\n",
       "      <td>B</td>\n",
       "      <td>11.533333</td>\n",
       "      <td>8.0</td>\n",
       "      <td>13.733333</td>\n",
       "      <td>0.0</td>\n",
       "      <td>0.2</td>\n",
       "      <td>236.0</td>\n",
       "      <td>5.996413</td>\n",
       "      <td>0.016458</td>\n",
       "      <td>4928.0</td>\n",
       "      <td>964.0</td>\n",
       "      <td>3</td>\n",
       "      <td>11</td>\n",
       "      <td>1</td>\n",
       "      <td>4</td>\n",
       "    </tr>\n",
       "    <tr>\n",
       "      <th>2</th>\n",
       "      <td>2013-11-01</td>\n",
       "      <td>Baselga di Pinè</td>\n",
       "      <td>C</td>\n",
       "      <td>11.433333</td>\n",
       "      <td>7.3</td>\n",
       "      <td>12.966667</td>\n",
       "      <td>0.0</td>\n",
       "      <td>0.0</td>\n",
       "      <td>184.0</td>\n",
       "      <td>10.637787</td>\n",
       "      <td>0.017426</td>\n",
       "      <td>4928.0</td>\n",
       "      <td>964.0</td>\n",
       "      <td>3</td>\n",
       "      <td>11</td>\n",
       "      <td>1</td>\n",
       "      <td>4</td>\n",
       "    </tr>\n",
       "    <tr>\n",
       "      <th>3</th>\n",
       "      <td>2013-11-01</td>\n",
       "      <td>Baselga di Pinè</td>\n",
       "      <td>D</td>\n",
       "      <td>9.350000</td>\n",
       "      <td>6.6</td>\n",
       "      <td>12.200000</td>\n",
       "      <td>0.0</td>\n",
       "      <td>NaN</td>\n",
       "      <td>NaN</td>\n",
       "      <td>18.809585</td>\n",
       "      <td>0.024556</td>\n",
       "      <td>4928.0</td>\n",
       "      <td>964.0</td>\n",
       "      <td>2</td>\n",
       "      <td>11</td>\n",
       "      <td>1</td>\n",
       "      <td>4</td>\n",
       "    </tr>\n",
       "    <tr>\n",
       "      <th>4</th>\n",
       "      <td>2013-11-01</td>\n",
       "      <td>Bedollo</td>\n",
       "      <td>B</td>\n",
       "      <td>14.120000</td>\n",
       "      <td>8.7</td>\n",
       "      <td>14.500000</td>\n",
       "      <td>0.0</td>\n",
       "      <td>0.3</td>\n",
       "      <td>232.5</td>\n",
       "      <td>0.383955</td>\n",
       "      <td>0.015358</td>\n",
       "      <td>1476.0</td>\n",
       "      <td>1059.0</td>\n",
       "      <td>5</td>\n",
       "      <td>11</td>\n",
       "      <td>1</td>\n",
       "      <td>4</td>\n",
       "    </tr>\n",
       "  </tbody>\n",
       "</table>\n",
       "</div>"
      ],
      "text/plain": [
       "         date municipality.name hour_category  temperature  minTemperature  \\\n",
       "0  2013-11-01            Andalo             A     9.200000             8.5   \n",
       "1  2013-11-01   Baselga di Pinè             B    11.533333             8.0   \n",
       "2  2013-11-01   Baselga di Pinè             C    11.433333             7.3   \n",
       "3  2013-11-01   Baselga di Pinè             D     9.350000             6.6   \n",
       "4  2013-11-01           Bedollo             B    14.120000             8.7   \n",
       "\n",
       "   maxTemperature  precipitation  wind_speed  wind_dir  curr_cell  curr_site  \\\n",
       "0       12.000000            0.0         NaN       NaN   0.000000   0.000000   \n",
       "1       13.733333            0.0         0.2     236.0   5.996413   0.016458   \n",
       "2       12.966667            0.0         0.0     184.0  10.637787   0.017426   \n",
       "3       12.200000            0.0         NaN       NaN  18.809585   0.024556   \n",
       "4       14.500000            0.0         0.3     232.5   0.383955   0.015358   \n",
       "\n",
       "   population  elevation  tweet_count  month  day  day_of_week  \n",
       "0      1024.0     1042.0            1     11    1            4  \n",
       "1      4928.0      964.0            3     11    1            4  \n",
       "2      4928.0      964.0            3     11    1            4  \n",
       "3      4928.0      964.0            2     11    1            4  \n",
       "4      1476.0     1059.0            5     11    1            4  "
      ]
     },
     "execution_count": 4,
     "metadata": {},
     "output_type": "execute_result"
    }
   ],
   "source": [
    "df.head()"
   ]
  },
  {
   "cell_type": "markdown",
   "id": "2bccb183-7bb0-44a2-97f1-b07480693b6d",
   "metadata": {},
   "source": [
    "Before continuing, we need to remove the last day (2013-12-31), on which we will make the prediction."
   ]
  },
  {
   "cell_type": "code",
   "execution_count": 5,
   "id": "f872ae22-f756-4847-b136-4760262cac98",
   "metadata": {},
   "outputs": [],
   "source": [
    "df = df[df['day'] != 31]"
   ]
  },
  {
   "cell_type": "markdown",
   "id": "bd6899aa",
   "metadata": {},
   "source": [
    "Then we define the features and the target (different from classification):"
   ]
  },
  {
   "cell_type": "code",
   "execution_count": 6,
   "id": "4affc8b9",
   "metadata": {
    "tags": []
   },
   "outputs": [],
   "source": [
    "X = df.drop('tweet_count', axis=1)\n",
    "y = df['tweet_count']"
   ]
  },
  {
   "cell_type": "markdown",
   "id": "d8069c19-858a-477c-96f2-7ff13f92f137",
   "metadata": {},
   "source": [
    "### Preprocessing"
   ]
  },
  {
   "cell_type": "markdown",
   "id": "0bfb90f1",
   "metadata": {},
   "source": [
    "We now preprocess the data by defining the same functions used in the classification. Let's keep in mind that now `y` is not a category anymore, so it's not to be encoded."
   ]
  },
  {
   "cell_type": "code",
   "execution_count": 7,
   "id": "723be247-b61c-4912-b4c5-a67dc1eaa912",
   "metadata": {},
   "outputs": [],
   "source": [
    "def preprocess_data(X, y, categorical_features, numerical_features, test_size=0.2, random_state=20):\n",
    "    # Label encode categorical features\n",
    "    le_feature = LabelEncoder()\n",
    "    for feat in categorical_features:\n",
    "        X[feat] = le_feature.fit_transform(X[feat])\n",
    "\n",
    "    # Split the dataset\n",
    "    X_train, X_test, y_train, y_test = train_test_split(X, y, test_size=test_size, random_state=random_state)\n",
    "\n",
    "    # Scale numerical features\n",
    "    scaler = StandardScaler()\n",
    "    X_train[numerical_features] = scaler.fit_transform(X_train[numerical_features])\n",
    "    X_test[numerical_features] = scaler.transform(X_test[numerical_features])\n",
    "\n",
    "    return X_train, X_test, y_train, y_test, scaler"
   ]
  },
  {
   "cell_type": "markdown",
   "id": "b981876f-d800-433c-b92b-4e4f740efd1a",
   "metadata": {},
   "source": [
    "\n",
    "We then initialise and train the classifier. "
   ]
  },
  {
   "cell_type": "code",
   "execution_count": 8,
   "id": "93e52741-9321-4e57-8256-64ebd98dfaff",
   "metadata": {},
   "outputs": [],
   "source": [
    "def train_and_evaluate(X_train, X_test, y_train, y_test, n_estimators, max_depth=None):\n",
    "    # Initialize Random Forest Regressor\n",
    "    rf_regressor = RandomForestRegressor(n_estimators=n_estimators, max_depth=max_depth, random_state=42)\n",
    "    \n",
    "    # Train the classifier\n",
    "    rf_regressor.fit(X_train, y_train)\n",
    "    \n",
    "    # Predictions\n",
    "    y_pred = rf_regressor.predict(X_test)\n",
    "    \n",
    "    # Print results\n",
    "    mae = mean_absolute_error(y_test, y_pred)\n",
    "    r2 = r2_score(y_test, y_pred)\n",
    "    mse = mean_squared_error(y_test, y_pred)\n",
    "    \n",
    "    print(f\"Mean Absolute Error: {mae}\")\n",
    "    print(f\"R² Score: {r2}\")\n",
    "    print(f\"Mean Square Error: {mse}\")\n",
    "\n",
    "    return rf_regressor"
   ]
  },
  {
   "cell_type": "code",
   "execution_count": 9,
   "id": "2ee1e6d3",
   "metadata": {
    "tags": []
   },
   "outputs": [],
   "source": [
    "categorical_features = ['date', 'municipality.name', 'hour_category', 'month', 'day_of_week']  # Any string or categorical features\n",
    "numerical_features = ['temperature', \n",
    "                      'minTemperature', \n",
    "                      'maxTemperature', \n",
    "                      'precipitation', \n",
    "                      'wind_speed',\n",
    "                      'wind_dir',\n",
    "                      'curr_cell',\n",
    "                      'population',\n",
    "                      'elevation',\n",
    "                      'curr_site',\n",
    "                      'day']"
   ]
  },
  {
   "cell_type": "markdown",
   "id": "794a438d-4263-48df-80ae-fded1835e0ae",
   "metadata": {},
   "source": [
    "Here is the preprocessing."
   ]
  },
  {
   "cell_type": "code",
   "execution_count": 10,
   "id": "1ee673ba-32d9-487a-8256-4b03ffb999d2",
   "metadata": {},
   "outputs": [],
   "source": [
    "X_train, X_test, y_train, y_test, scaler = preprocess_data(X, \n",
    "                                                   y, \n",
    "                                                   categorical_features, \n",
    "                                                   numerical_features, random_state=42)"
   ]
  },
  {
   "cell_type": "markdown",
   "id": "ceadcd6e-7ddf-4e5d-ba0e-c2e031ffa347",
   "metadata": {},
   "source": [
    "## RF regression"
   ]
  },
  {
   "cell_type": "markdown",
   "id": "1b0a603d",
   "metadata": {},
   "source": [
    "We now proceed to implement our regressor."
   ]
  },
  {
   "cell_type": "markdown",
   "id": "1c111848",
   "metadata": {},
   "source": [
    "We initialise and train the random forest. We decide to not limit the depth, since the training time is not high.\n",
    "\n",
    "We then calculate the predictions on the test."
   ]
  },
  {
   "cell_type": "markdown",
   "id": "a8873ede",
   "metadata": {},
   "source": [
    "Then we evaluate the model by calculating some meaningful estimators ($\\text{MAE}$, $R^2$, $\\text{MSE}$)"
   ]
  },
  {
   "cell_type": "code",
   "execution_count": 11,
   "id": "4cf443fd-d54f-4504-9eaf-a0767e34ff0b",
   "metadata": {},
   "outputs": [
    {
     "name": "stdout",
     "output_type": "stream",
     "text": [
      "Mean Absolute Error: 3.452112820512821\n",
      "R² Score: 0.5185417347885479\n",
      "Mean Square Error: 61.89688030769231\n"
     ]
    }
   ],
   "source": [
    "rf_regressor = train_and_evaluate(X_train, \n",
    "                   X_test, \n",
    "                   y_train, \n",
    "                   y_test, \n",
    "                   n_estimators=100)"
   ]
  },
  {
   "cell_type": "code",
   "execution_count": 12,
   "id": "1cafe92c",
   "metadata": {},
   "outputs": [
    {
     "name": "stdout",
     "output_type": "stream",
     "text": [
      "Average tweet count for the whole of Trentino: 5.535494460402134\n"
     ]
    }
   ],
   "source": [
    "# average tweet count Trentino\n",
    "average_tweet_count_trentino = df['tweet_count'].mean()\n",
    "\n",
    "print(f\"Average tweet count for the whole of Trentino: {average_tweet_count_trentino}\")\n",
    "\n",
    "# Predict on the entire dataset and store the predictions in the DataFrame\n",
    "X[numerical_features] = scaler.transform(X[numerical_features])\n",
    "df['predicted_tweet_count'] = rf_regressor.predict(X)"
   ]
  },
  {
   "cell_type": "markdown",
   "id": "7dd0691e-82b2-4b56-9918-a6e7aa49e707",
   "metadata": {
    "tags": []
   },
   "source": [
    "The mean absolute error illustrates that the typical error we can expect from tweetcount prediction is of 3-4 tweets. \n",
    "\n",
    "Unfortunatly, given that most municipalities have a tweet count around 5-6 this is really not good. \n",
    "The $R^2$ factor is indeed just fair, we are certain we are missing important factors which influence the number of tweeters.\n",
    "\n",
    "In the classification notebook we verified that a social, scheduled (and therefore predictable) event such as the **Universiadi** caused a major misprediction. From the regression we can verify that the actual absolute error is $\\sim 88$. \n",
    "It is clear that in order to be quantitative, in order to reliably predict the social pulse we should be able to complete the dataframe with **local events**, specific **holidays** and major **news** events. Since this is the only available dataframe for us, we conclude that this type of survey is really just fit for classification.\n",
    "\n",
    "Just not to be tragic or drastic, we signal that this huge $\\text{MAE}$ may be driven mainly by the very high peaks, such as the ones that have been recorded on Dec 13th and 14th; this possibility is higlighted by the very high value of $\\text{MSE}$, that adds up the square of the errors, since this is way larger that the square of mean absolute error, occasional peaks are something to consider appropriately. \n",
    "\n",
    "If we remove the peaks: "
   ]
  },
  {
   "cell_type": "code",
   "execution_count": 13,
   "id": "b4942bfa-25f6-49c0-938a-5dbf22233d37",
   "metadata": {
    "tags": []
   },
   "outputs": [
    {
     "name": "stdout",
     "output_type": "stream",
     "text": [
      "Top 3 municipalities and timeslots with the greatest difference in tweet counts:\n",
      "            date municipality.name hour_category  tweet_count  \\\n",
      "2153  2013-12-04            Trento             C          141   \n",
      "3198  2013-12-15            Tesero             D           93   \n",
      "937   2013-11-18          Rovereto             D           89   \n",
      "\n",
      "      predicted_tweet_count  tweet_difference  \n",
      "2153                  52.97             88.03  \n",
      "3198                  15.86             77.14  \n",
      "937                   13.72             75.28  \n",
      "Average tweet count for the new dataset: 5.472592896735783\n",
      "MAE for the new dataset: 1.6265797577499488\n"
     ]
    }
   ],
   "source": [
    "# Create a new column for the difference between predicted and actual tweet counts\n",
    "df['tweet_difference'] = abs(df['predicted_tweet_count'] - df['tweet_count'])\n",
    "\n",
    "#  Find the top 3 municipalities and timeslots with the greatest difference\n",
    "top_3_diff = df.nlargest(3, 'tweet_difference')\n",
    "\n",
    "# Print the top 3 municipalities and timeslots with the greatest differences\n",
    "print(\"Top 3 municipalities and timeslots with the greatest difference in tweet counts:\")\n",
    "print(top_3_diff[['date', 'municipality.name', 'hour_category', 'tweet_count', 'predicted_tweet_count', 'tweet_difference']])\n",
    "\n",
    "#  Remove  top 3 rows from the original DataFrame\n",
    "df_without_top_3_diff = df.drop(top_3_diff.index)\n",
    "\n",
    "#  Reset  DataFrame index\n",
    "df_without_top_3_diff = df_without_top_3_diff.reset_index(drop=True)\n",
    "\n",
    "#  Calculate average tweet count for the new dataset\n",
    "average_tweet_count_new = df_without_top_3_diff['tweet_count'].mean()\n",
    "\n",
    "#  Calculate the average mean error (Mean Absolute Error - MAE)\n",
    "average_mean_error_new = abs(df_without_top_3_diff['predicted_tweet_count'] - df_without_top_3_diff['tweet_count']).mean()\n",
    "\n",
    "# Print results \n",
    "print(f\"Average tweet count for the new dataset: {average_tweet_count_new}\")\n",
    "print(f\"MAE for the new dataset: {average_mean_error_new}\")"
   ]
  },
  {
   "cell_type": "markdown",
   "id": "cedf3ee8-7fb1-4408-b6f2-2c6f773fcd0e",
   "metadata": {},
   "source": [
    "Indeed, just by removing the 3 worst predictions in a set of more than 5000 elements, the $\\text{MAE}$ is more than halved. \n"
   ]
  },
  {
   "cell_type": "markdown",
   "id": "63f15283-7389-4d07-bedf-32d624e39966",
   "metadata": {},
   "source": [
    "The potential error-related improvement in removing a few points is clearly visible in the following plot, where for very few points the tweet counts and the relative prediction diverge insanely. You can clearly see the 3 points we removed. "
   ]
  },
  {
   "cell_type": "code",
   "execution_count": 14,
   "id": "ea7fe7e1",
   "metadata": {},
   "outputs": [
    {
     "data": {
      "image/png": "[encoded data removed]",
      "text/plain": [
       "<Figure size 1000x600 with 1 Axes>"
      ]
     },
     "metadata": {},
     "output_type": "display_data"
    }
   ],
   "source": [
    "#  Plot the actual and predicted tweet counts\n",
    "plt.figure(figsize=(10, 6))  # Set the figure size for better readability\n",
    "\n",
    "# Plot actual tweet counts (blue solid line with circle markers)\n",
    "plt.plot(df['tweet_count'], df['tweet_count'], label='Actual Tweet Count', color='blue', linestyle='-', marker='o')\n",
    "\n",
    "# Plot predicted tweet counts (red solid line with x markers)\n",
    "plt.plot(df['tweet_count'], df['predicted_tweet_count'], label='Predicted Tweet Count', color='red', linestyle=' ', marker='x')\n",
    "\n",
    "# Highlight specific points (circle markers for these points)\n",
    "highlight_points = [(141, 53), (93, 16), (89, 14)]\n",
    "for point in highlight_points:\n",
    "    plt.scatter(point[0], point[1], facecolors='none', edgecolor='black', s=150, zorder=5)\n",
    "\n",
    "#  Add labels and a title\n",
    "plt.xlabel('Index (Sorted by Tweet Count)', fontsize=12)\n",
    "plt.ylabel('Tweet Count', fontsize=12)\n",
    "plt.title('Actual vs Predicted Tweet Counts', fontsize=14)\n",
    "\n",
    "# Legend to differentiate between the two lines\n",
    "plt.legend()\n",
    "\n",
    "# Add gridlines for better readability\n",
    "plt.grid(True)\n",
    "\n",
    "plt.show()"
   ]
  },
  {
   "cell_type": "markdown",
   "id": "3948b633-7c74-410d-b905-79dc908eb950",
   "metadata": {},
   "source": [
    "Nevertheless, we insist that without reliable data on social activities and events, this dataset is more fit for classification than for the  precise predictions of a regression. "
   ]
  },
  {
   "cell_type": "markdown",
   "id": "0de1cd4e-8aa1-4a55-9d77-e4951471c9fd",
   "metadata": {},
   "source": [
    "To conlude, by elaborating on the imbalanced nature of the dataset which the regression pointed out, it seemed meaningful to show how the distribution of tweets in the province is all but uniform, the division by municipalities corresponds to our desire to trace trends in all local municipalities of Trentino, but that is no \"efficient approach\" to trace overall activity, since, to very good approximation, the actual vast majority of social activities is happening in very, very few places. "
   ]
  },
  {
   "cell_type": "code",
   "execution_count": 15,
   "id": "59685166-5a80-4f2f-a21a-40532bc43e79",
   "metadata": {
    "tags": []
   },
   "outputs": [
    {
     "data": {
      "image/png": "[encoded data removed]",
      "text/plain": [
       "<Figure size 1000x600 with 1 Axes>"
      ]
     },
     "metadata": {},
     "output_type": "display_data"
    }
   ],
   "source": [
    "# sort municipalities by tweet count in descending order\n",
    "df_sorted = df.groupby('municipality.name')['tweet_count'].sum().sort_values(ascending=False)\n",
    "\n",
    "# calculate cumulative tweet count and cumulative percentage of municipalities\n",
    "cumulative_tweets = df_sorted.cumsum()\n",
    "cumulative_percentage_municipalities = np.arange(1, len(df_sorted)+1) / len(df_sorted)\n",
    "\n",
    "# plot the Lorenz curve\n",
    "plt.figure(figsize=(10, 6))\n",
    "plt.plot(cumulative_percentage_municipalities, cumulative_tweets / cumulative_tweets.max(), label=\"Cumulative Tweet Count\", color='blue')\n",
    "\n",
    "# add a reference line (y = x) for perfect equality\n",
    "plt.plot([0, 1], [0, 1], linestyle='--', color='gray', label='Perfect Equality')\n",
    "\n",
    "# add labels and title\n",
    "plt.title('Lorenz Curve: Cumulative Distribution of Tweet Counts Across Municipalities', fontsize=14)\n",
    "plt.xlabel('Cumulative Percentage of Municipalities', fontsize=12)\n",
    "plt.ylabel('Cumulative Percentage of Tweets', fontsize=12)\n",
    "\n",
    "# add a legend and grid\n",
    "plt.legend()\n",
    "plt.grid(True)"
   ]
  },
  {
   "cell_type": "markdown",
   "id": "5fd13ab2-5709-40e7-bf39-907c465a056a",
   "metadata": {},
   "source": [
    "If the bisector represents perfect equality in the contribution of the municipalities/timeslot classes to tweeting, we see that the distribution is indeed very imbalaced. The two most meaningful insights are that one class accounts for around 30% of the activity and  that 20% of the classes account for more than 90% of the activity. "
   ]
  },
  {
   "cell_type": "markdown",
   "id": "c6a2f8d4",
   "metadata": {},
   "source": [
    "Eventually this can give a profound justification for the fact that few peaks account for much of the $\\text{MAE}$. \n",
    "The fact of imbalanced distribution is not per se an indicator of how the $\\text{MAE}$ compares with the average tweet count: if the relative error of the bigger cities is the same, the fact of having 30% or even potentially 90% of the tweets does not affect the $\\text{MAE}$. But the matter is totally different if we assume that bigger municipalities are more subjected to extreme and unpredicted events than little municipalities, more specifically, if we assume that complexity and stochastic events increase more than linearly with population! This makes all the difference: if tweets are prevalently created in few bigger municipalities at some given hours and these municipalities tend to behave way more unpredictably, this indeed drives to the conclusion that few peaks will make for most of the $\\text{MAE}$.\n",
    "\n",
    "<!--\n",
    "Such an assumption may seem couterintuitive for a person eager to describe society with gaussian models, where larger samples are less prone to unpredictability, but it has been recently  widely argued that in complex ecosystems, such as cities, the behaviour  is much more fuzzy and the gaussian does not hold at all, instead power laws with exponents greater than 1 work way better. \n",
    "This final reflexion is inspired by the work of Nassim Nicholas Taleb , \"the Black Swan\", Penguin Books, 2017. \n",
    "The arguments and evidence reported can be found in chapters 3, 13, 14, 15, along with an extensive bibliography.\n",
    "-->  "
   ]
  },
  {
   "cell_type": "markdown",
   "id": "62dbc6d5-62c1-4586-b4e7-bb3b8cca91f3",
   "metadata": {},
   "source": [
    "## Prediction"
   ]
  },
  {
   "cell_type": "markdown",
   "id": "7695a6a8-ea4e-4b1a-bf81-fa7007507a87",
   "metadata": {},
   "source": [
    "Now that we estalished the validity of our model, we can train it on all data before December 31st, the day of the prediction."
   ]
  },
  {
   "cell_type": "code",
   "execution_count": 16,
   "id": "f4d2882a-36e1-4e70-8c2c-cb816863d288",
   "metadata": {},
   "outputs": [],
   "source": [
    "df = pd.read_csv('../data/processed/TWER_grouped.csv').drop('Unnamed: 0', axis=1)"
   ]
  },
  {
   "cell_type": "code",
   "execution_count": 17,
   "id": "532495a6-225e-4d83-b48b-373ad89edc04",
   "metadata": {},
   "outputs": [
    {
     "data": {
      "text/html": [
       "<div>\n",
       "<style scoped>\n",
       "    .dataframe tbody tr th:only-of-type {\n",
       "        vertical-align: middle;\n",
       "    }\n",
       "\n",
       "    .dataframe tbody tr th {\n",
       "        vertical-align: top;\n",
       "    }\n",
       "\n",
       "    .dataframe thead th {\n",
       "        text-align: right;\n",
       "    }\n",
       "</style>\n",
       "<table border=\"1\" class=\"dataframe\">\n",
       "  <thead>\n",
       "    <tr style=\"text-align: right;\">\n",
       "      <th></th>\n",
       "      <th>date</th>\n",
       "      <th>municipality.name</th>\n",
       "      <th>hour_category</th>\n",
       "      <th>temperature</th>\n",
       "      <th>minTemperature</th>\n",
       "      <th>maxTemperature</th>\n",
       "      <th>precipitation</th>\n",
       "      <th>wind_speed</th>\n",
       "      <th>wind_dir</th>\n",
       "      <th>curr_cell</th>\n",
       "      <th>curr_site</th>\n",
       "      <th>population</th>\n",
       "      <th>elevation</th>\n",
       "      <th>tweet_count</th>\n",
       "      <th>month</th>\n",
       "      <th>day</th>\n",
       "      <th>day_of_week</th>\n",
       "    </tr>\n",
       "  </thead>\n",
       "  <tbody>\n",
       "    <tr>\n",
       "      <th>0</th>\n",
       "      <td>2013-11-01</td>\n",
       "      <td>Andalo</td>\n",
       "      <td>A</td>\n",
       "      <td>9.200000</td>\n",
       "      <td>8.5</td>\n",
       "      <td>12.000000</td>\n",
       "      <td>0.0</td>\n",
       "      <td>NaN</td>\n",
       "      <td>NaN</td>\n",
       "      <td>0.000000</td>\n",
       "      <td>0.000000</td>\n",
       "      <td>1024.0</td>\n",
       "      <td>1042.0</td>\n",
       "      <td>1</td>\n",
       "      <td>11</td>\n",
       "      <td>1</td>\n",
       "      <td>4</td>\n",
       "    </tr>\n",
       "    <tr>\n",
       "      <th>1</th>\n",
       "      <td>2013-11-01</td>\n",
       "      <td>Baselga di Pinè</td>\n",
       "      <td>B</td>\n",
       "      <td>11.533333</td>\n",
       "      <td>8.0</td>\n",
       "      <td>13.733333</td>\n",
       "      <td>0.0</td>\n",
       "      <td>0.2</td>\n",
       "      <td>236.0</td>\n",
       "      <td>5.996413</td>\n",
       "      <td>0.016458</td>\n",
       "      <td>4928.0</td>\n",
       "      <td>964.0</td>\n",
       "      <td>3</td>\n",
       "      <td>11</td>\n",
       "      <td>1</td>\n",
       "      <td>4</td>\n",
       "    </tr>\n",
       "    <tr>\n",
       "      <th>2</th>\n",
       "      <td>2013-11-01</td>\n",
       "      <td>Baselga di Pinè</td>\n",
       "      <td>C</td>\n",
       "      <td>11.433333</td>\n",
       "      <td>7.3</td>\n",
       "      <td>12.966667</td>\n",
       "      <td>0.0</td>\n",
       "      <td>0.0</td>\n",
       "      <td>184.0</td>\n",
       "      <td>10.637787</td>\n",
       "      <td>0.017426</td>\n",
       "      <td>4928.0</td>\n",
       "      <td>964.0</td>\n",
       "      <td>3</td>\n",
       "      <td>11</td>\n",
       "      <td>1</td>\n",
       "      <td>4</td>\n",
       "    </tr>\n",
       "    <tr>\n",
       "      <th>3</th>\n",
       "      <td>2013-11-01</td>\n",
       "      <td>Baselga di Pinè</td>\n",
       "      <td>D</td>\n",
       "      <td>9.350000</td>\n",
       "      <td>6.6</td>\n",
       "      <td>12.200000</td>\n",
       "      <td>0.0</td>\n",
       "      <td>NaN</td>\n",
       "      <td>NaN</td>\n",
       "      <td>18.809585</td>\n",
       "      <td>0.024556</td>\n",
       "      <td>4928.0</td>\n",
       "      <td>964.0</td>\n",
       "      <td>2</td>\n",
       "      <td>11</td>\n",
       "      <td>1</td>\n",
       "      <td>4</td>\n",
       "    </tr>\n",
       "    <tr>\n",
       "      <th>4</th>\n",
       "      <td>2013-11-01</td>\n",
       "      <td>Bedollo</td>\n",
       "      <td>B</td>\n",
       "      <td>14.120000</td>\n",
       "      <td>8.7</td>\n",
       "      <td>14.500000</td>\n",
       "      <td>0.0</td>\n",
       "      <td>0.3</td>\n",
       "      <td>232.5</td>\n",
       "      <td>0.383955</td>\n",
       "      <td>0.015358</td>\n",
       "      <td>1476.0</td>\n",
       "      <td>1059.0</td>\n",
       "      <td>5</td>\n",
       "      <td>11</td>\n",
       "      <td>1</td>\n",
       "      <td>4</td>\n",
       "    </tr>\n",
       "  </tbody>\n",
       "</table>\n",
       "</div>"
      ],
      "text/plain": [
       "         date municipality.name hour_category  temperature  minTemperature  \\\n",
       "0  2013-11-01            Andalo             A     9.200000             8.5   \n",
       "1  2013-11-01   Baselga di Pinè             B    11.533333             8.0   \n",
       "2  2013-11-01   Baselga di Pinè             C    11.433333             7.3   \n",
       "3  2013-11-01   Baselga di Pinè             D     9.350000             6.6   \n",
       "4  2013-11-01           Bedollo             B    14.120000             8.7   \n",
       "\n",
       "   maxTemperature  precipitation  wind_speed  wind_dir  curr_cell  curr_site  \\\n",
       "0       12.000000            0.0         NaN       NaN   0.000000   0.000000   \n",
       "1       13.733333            0.0         0.2     236.0   5.996413   0.016458   \n",
       "2       12.966667            0.0         0.0     184.0  10.637787   0.017426   \n",
       "3       12.200000            0.0         NaN       NaN  18.809585   0.024556   \n",
       "4       14.500000            0.0         0.3     232.5   0.383955   0.015358   \n",
       "\n",
       "   population  elevation  tweet_count  month  day  day_of_week  \n",
       "0      1024.0     1042.0            1     11    1            4  \n",
       "1      4928.0      964.0            3     11    1            4  \n",
       "2      4928.0      964.0            3     11    1            4  \n",
       "3      4928.0      964.0            2     11    1            4  \n",
       "4      1476.0     1059.0            5     11    1            4  "
      ]
     },
     "execution_count": 17,
     "metadata": {},
     "output_type": "execute_result"
    }
   ],
   "source": [
    "df.head()"
   ]
  },
  {
   "cell_type": "code",
   "execution_count": 18,
   "id": "be2c5458-2e77-400e-b095-2b8e0da4991b",
   "metadata": {
    "tags": []
   },
   "outputs": [],
   "source": [
    "X = df.drop('tweet_count', axis=1)\n",
    "y = df['tweet_count']"
   ]
  },
  {
   "cell_type": "code",
   "execution_count": 19,
   "id": "3a829898-e119-4a7d-8b8c-0ab0eba867d1",
   "metadata": {
    "tags": []
   },
   "outputs": [],
   "source": [
    "categorical_features = ['date', 'municipality.name', 'hour_category', 'month', 'day_of_week']  # Any string or categorical features\n",
    "numerical_features = ['temperature', \n",
    "                      'minTemperature', \n",
    "                      'maxTemperature', \n",
    "                      'precipitation', \n",
    "                      'wind_speed',\n",
    "                      'wind_dir',\n",
    "                      'curr_cell',\n",
    "                      'population',\n",
    "                      'elevation',\n",
    "                      'curr_site',\n",
    "                      'day']"
   ]
  },
  {
   "cell_type": "code",
   "execution_count": 20,
   "id": "3af10bd4-23f3-437a-bdf0-95a06af8b90f",
   "metadata": {},
   "outputs": [],
   "source": [
    "# Label encode categorical features\n",
    "le_feature = LabelEncoder()\n",
    "for feat in categorical_features:\n",
    "    X[feat] = le_feature.fit_transform(X[feat])\n",
    "\n",
    "# Selecting Dec 31st\n",
    "len31 = len(X[X['date'] == 60])\n",
    "\n",
    "# Now the train-test split is done by selecting only the days before Dec 31st.\n",
    "X_train, X_test = X[0:len(X)-len31], X[len(X)-len31:]\n",
    "y_train, y_test = y[0:len(X)-len31], y[len(X)-len31:]\n",
    "\n",
    "# Scale numerical features\n",
    "scaler = StandardScaler()\n",
    "X_train[numerical_features] = scaler.fit_transform(X_train[numerical_features])\n",
    "X_test[numerical_features] = scaler.transform(X_test[numerical_features])"
   ]
  },
  {
   "cell_type": "code",
   "execution_count": 21,
   "id": "075c5170-a614-40db-8d01-8d84780db8a2",
   "metadata": {
    "tags": []
   },
   "outputs": [
    {
     "data": {
      "text/html": [
       "<style>#sk-container-id-1 {\n",
       "  /* Definition of color scheme common for light and dark mode */\n",
       "  --sklearn-color-text: black;\n",
       "  --sklearn-color-line: gray;\n",
       "  /* Definition of color scheme for unfitted estimators */\n",
       "  --sklearn-color-unfitted-level-0: #fff5e6;\n",
       "  --sklearn-color-unfitted-level-1: #f6e4d2;\n",
       "  --sklearn-color-unfitted-level-2: #ffe0b3;\n",
       "  --sklearn-color-unfitted-level-3: chocolate;\n",
       "  /* Definition of color scheme for fitted estimators */\n",
       "  --sklearn-color-fitted-level-0: #f0f8ff;\n",
       "  --sklearn-color-fitted-level-1: #d4ebff;\n",
       "  --sklearn-color-fitted-level-2: #b3dbfd;\n",
       "  --sklearn-color-fitted-level-3: cornflowerblue;\n",
       "\n",
       "  /* Specific color for light theme */\n",
       "  --sklearn-color-text-on-default-background: var(--sg-text-color, var(--theme-code-foreground, var(--jp-content-font-color1, black)));\n",
       "  --sklearn-color-background: var(--sg-background-color, var(--theme-background, var(--jp-layout-color0, white)));\n",
       "  --sklearn-color-border-box: var(--sg-text-color, var(--theme-code-foreground, var(--jp-content-font-color1, black)));\n",
       "  --sklearn-color-icon: #696969;\n",
       "\n",
       "  @media (prefers-color-scheme: dark) {\n",
       "    /* Redefinition of color scheme for dark theme */\n",
       "    --sklearn-color-text-on-default-background: var(--sg-text-color, var(--theme-code-foreground, var(--jp-content-font-color1, white)));\n",
       "    --sklearn-color-background: var(--sg-background-color, var(--theme-background, var(--jp-layout-color0, #111)));\n",
       "    --sklearn-color-border-box: var(--sg-text-color, var(--theme-code-foreground, var(--jp-content-font-color1, white)));\n",
       "    --sklearn-color-icon: #878787;\n",
       "  }\n",
       "}\n",
       "\n",
       "#sk-container-id-1 {\n",
       "  color: var(--sklearn-color-text);\n",
       "}\n",
       "\n",
       "#sk-container-id-1 pre {\n",
       "  padding: 0;\n",
       "}\n",
       "\n",
       "#sk-container-id-1 input.sk-hidden--visually {\n",
       "  border: 0;\n",
       "  clip: rect(1px 1px 1px 1px);\n",
       "  clip: rect(1px, 1px, 1px, 1px);\n",
       "  height: 1px;\n",
       "  margin: -1px;\n",
       "  overflow: hidden;\n",
       "  padding: 0;\n",
       "  position: absolute;\n",
       "  width: 1px;\n",
       "}\n",
       "\n",
       "#sk-container-id-1 div.sk-dashed-wrapped {\n",
       "  border: 1px dashed var(--sklearn-color-line);\n",
       "  margin: 0 0.4em 0.5em 0.4em;\n",
       "  box-sizing: border-box;\n",
       "  padding-bottom: 0.4em;\n",
       "  background-color: var(--sklearn-color-background);\n",
       "}\n",
       "\n",
       "#sk-container-id-1 div.sk-container {\n",
       "  /* jupyter's `normalize.less` sets `[hidden] { display: none; }`\n",
       "     but bootstrap.min.css set `[hidden] { display: none !important; }`\n",
       "     so we also need the `!important` here to be able to override the\n",
       "     default hidden behavior on the sphinx rendered scikit-learn.org.\n",
       "     See: https://github.com/scikit-learn/scikit-learn/issues/21755 */\n",
       "  display: inline-block !important;\n",
       "  position: relative;\n",
       "}\n",
       "\n",
       "#sk-container-id-1 div.sk-text-repr-fallback {\n",
       "  display: none;\n",
       "}\n",
       "\n",
       "div.sk-parallel-item,\n",
       "div.sk-serial,\n",
       "div.sk-item {\n",
       "  /* draw centered vertical line to link estimators */\n",
       "  background-image: linear-gradient(var(--sklearn-color-text-on-default-background), var(--sklearn-color-text-on-default-background));\n",
       "  background-size: 2px 100%;\n",
       "  background-repeat: no-repeat;\n",
       "  background-position: center center;\n",
       "}\n",
       "\n",
       "/* Parallel-specific style estimator block */\n",
       "\n",
       "#sk-container-id-1 div.sk-parallel-item::after {\n",
       "  content: \"\";\n",
       "  width: 100%;\n",
       "  border-bottom: 2px solid var(--sklearn-color-text-on-default-background);\n",
       "  flex-grow: 1;\n",
       "}\n",
       "\n",
       "#sk-container-id-1 div.sk-parallel {\n",
       "  display: flex;\n",
       "  align-items: stretch;\n",
       "  justify-content: center;\n",
       "  background-color: var(--sklearn-color-background);\n",
       "  position: relative;\n",
       "}\n",
       "\n",
       "#sk-container-id-1 div.sk-parallel-item {\n",
       "  display: flex;\n",
       "  flex-direction: column;\n",
       "}\n",
       "\n",
       "#sk-container-id-1 div.sk-parallel-item:first-child::after {\n",
       "  align-self: flex-end;\n",
       "  width: 50%;\n",
       "}\n",
       "\n",
       "#sk-container-id-1 div.sk-parallel-item:last-child::after {\n",
       "  align-self: flex-start;\n",
       "  width: 50%;\n",
       "}\n",
       "\n",
       "#sk-container-id-1 div.sk-parallel-item:only-child::after {\n",
       "  width: 0;\n",
       "}\n",
       "\n",
       "/* Serial-specific style estimator block */\n",
       "\n",
       "#sk-container-id-1 div.sk-serial {\n",
       "  display: flex;\n",
       "  flex-direction: column;\n",
       "  align-items: center;\n",
       "  background-color: var(--sklearn-color-background);\n",
       "  padding-right: 1em;\n",
       "  padding-left: 1em;\n",
       "}\n",
       "\n",
       "\n",
       "/* Toggleable style: style used for estimator/Pipeline/ColumnTransformer box that is\n",
       "clickable and can be expanded/collapsed.\n",
       "- Pipeline and ColumnTransformer use this feature and define the default style\n",
       "- Estimators will overwrite some part of the style using the `sk-estimator` class\n",
       "*/\n",
       "\n",
       "/* Pipeline and ColumnTransformer style (default) */\n",
       "\n",
       "#sk-container-id-1 div.sk-toggleable {\n",
       "  /* Default theme specific background. It is overwritten whether we have a\n",
       "  specific estimator or a Pipeline/ColumnTransformer */\n",
       "  background-color: var(--sklearn-color-background);\n",
       "}\n",
       "\n",
       "/* Toggleable label */\n",
       "#sk-container-id-1 label.sk-toggleable__label {\n",
       "  cursor: pointer;\n",
       "  display: block;\n",
       "  width: 100%;\n",
       "  margin-bottom: 0;\n",
       "  padding: 0.5em;\n",
       "  box-sizing: border-box;\n",
       "  text-align: center;\n",
       "}\n",
       "\n",
       "#sk-container-id-1 label.sk-toggleable__label-arrow:before {\n",
       "  /* Arrow on the left of the label */\n",
       "  content: \"▸\";\n",
       "  float: left;\n",
       "  margin-right: 0.25em;\n",
       "  color: var(--sklearn-color-icon);\n",
       "}\n",
       "\n",
       "#sk-container-id-1 label.sk-toggleable__label-arrow:hover:before {\n",
       "  color: var(--sklearn-color-text);\n",
       "}\n",
       "\n",
       "/* Toggleable content - dropdown */\n",
       "\n",
       "#sk-container-id-1 div.sk-toggleable__content {\n",
       "  max-height: 0;\n",
       "  max-width: 0;\n",
       "  overflow: hidden;\n",
       "  text-align: left;\n",
       "  /* unfitted */\n",
       "  background-color: var(--sklearn-color-unfitted-level-0);\n",
       "}\n",
       "\n",
       "#sk-container-id-1 div.sk-toggleable__content.fitted {\n",
       "  /* fitted */\n",
       "  background-color: var(--sklearn-color-fitted-level-0);\n",
       "}\n",
       "\n",
       "#sk-container-id-1 div.sk-toggleable__content pre {\n",
       "  margin: 0.2em;\n",
       "  border-radius: 0.25em;\n",
       "  color: var(--sklearn-color-text);\n",
       "  /* unfitted */\n",
       "  background-color: var(--sklearn-color-unfitted-level-0);\n",
       "}\n",
       "\n",
       "#sk-container-id-1 div.sk-toggleable__content.fitted pre {\n",
       "  /* unfitted */\n",
       "  background-color: var(--sklearn-color-fitted-level-0);\n",
       "}\n",
       "\n",
       "#sk-container-id-1 input.sk-toggleable__control:checked~div.sk-toggleable__content {\n",
       "  /* Expand drop-down */\n",
       "  max-height: 200px;\n",
       "  max-width: 100%;\n",
       "  overflow: auto;\n",
       "}\n",
       "\n",
       "#sk-container-id-1 input.sk-toggleable__control:checked~label.sk-toggleable__label-arrow:before {\n",
       "  content: \"▾\";\n",
       "}\n",
       "\n",
       "/* Pipeline/ColumnTransformer-specific style */\n",
       "\n",
       "#sk-container-id-1 div.sk-label input.sk-toggleable__control:checked~label.sk-toggleable__label {\n",
       "  color: var(--sklearn-color-text);\n",
       "  background-color: var(--sklearn-color-unfitted-level-2);\n",
       "}\n",
       "\n",
       "#sk-container-id-1 div.sk-label.fitted input.sk-toggleable__control:checked~label.sk-toggleable__label {\n",
       "  background-color: var(--sklearn-color-fitted-level-2);\n",
       "}\n",
       "\n",
       "/* Estimator-specific style */\n",
       "\n",
       "/* Colorize estimator box */\n",
       "#sk-container-id-1 div.sk-estimator input.sk-toggleable__control:checked~label.sk-toggleable__label {\n",
       "  /* unfitted */\n",
       "  background-color: var(--sklearn-color-unfitted-level-2);\n",
       "}\n",
       "\n",
       "#sk-container-id-1 div.sk-estimator.fitted input.sk-toggleable__control:checked~label.sk-toggleable__label {\n",
       "  /* fitted */\n",
       "  background-color: var(--sklearn-color-fitted-level-2);\n",
       "}\n",
       "\n",
       "#sk-container-id-1 div.sk-label label.sk-toggleable__label,\n",
       "#sk-container-id-1 div.sk-label label {\n",
       "  /* The background is the default theme color */\n",
       "  color: var(--sklearn-color-text-on-default-background);\n",
       "}\n",
       "\n",
       "/* On hover, darken the color of the background */\n",
       "#sk-container-id-1 div.sk-label:hover label.sk-toggleable__label {\n",
       "  color: var(--sklearn-color-text);\n",
       "  background-color: var(--sklearn-color-unfitted-level-2);\n",
       "}\n",
       "\n",
       "/* Label box, darken color on hover, fitted */\n",
       "#sk-container-id-1 div.sk-label.fitted:hover label.sk-toggleable__label.fitted {\n",
       "  color: var(--sklearn-color-text);\n",
       "  background-color: var(--sklearn-color-fitted-level-2);\n",
       "}\n",
       "\n",
       "/* Estimator label */\n",
       "\n",
       "#sk-container-id-1 div.sk-label label {\n",
       "  font-family: monospace;\n",
       "  font-weight: bold;\n",
       "  display: inline-block;\n",
       "  line-height: 1.2em;\n",
       "}\n",
       "\n",
       "#sk-container-id-1 div.sk-label-container {\n",
       "  text-align: center;\n",
       "}\n",
       "\n",
       "/* Estimator-specific */\n",
       "#sk-container-id-1 div.sk-estimator {\n",
       "  font-family: monospace;\n",
       "  border: 1px dotted var(--sklearn-color-border-box);\n",
       "  border-radius: 0.25em;\n",
       "  box-sizing: border-box;\n",
       "  margin-bottom: 0.5em;\n",
       "  /* unfitted */\n",
       "  background-color: var(--sklearn-color-unfitted-level-0);\n",
       "}\n",
       "\n",
       "#sk-container-id-1 div.sk-estimator.fitted {\n",
       "  /* fitted */\n",
       "  background-color: var(--sklearn-color-fitted-level-0);\n",
       "}\n",
       "\n",
       "/* on hover */\n",
       "#sk-container-id-1 div.sk-estimator:hover {\n",
       "  /* unfitted */\n",
       "  background-color: var(--sklearn-color-unfitted-level-2);\n",
       "}\n",
       "\n",
       "#sk-container-id-1 div.sk-estimator.fitted:hover {\n",
       "  /* fitted */\n",
       "  background-color: var(--sklearn-color-fitted-level-2);\n",
       "}\n",
       "\n",
       "/* Specification for estimator info (e.g. \"i\" and \"?\") */\n",
       "\n",
       "/* Common style for \"i\" and \"?\" */\n",
       "\n",
       ".sk-estimator-doc-link,\n",
       "a:link.sk-estimator-doc-link,\n",
       "a:visited.sk-estimator-doc-link {\n",
       "  float: right;\n",
       "  font-size: smaller;\n",
       "  line-height: 1em;\n",
       "  font-family: monospace;\n",
       "  background-color: var(--sklearn-color-background);\n",
       "  border-radius: 1em;\n",
       "  height: 1em;\n",
       "  width: 1em;\n",
       "  text-decoration: none !important;\n",
       "  margin-left: 1ex;\n",
       "  /* unfitted */\n",
       "  border: var(--sklearn-color-unfitted-level-1) 1pt solid;\n",
       "  color: var(--sklearn-color-unfitted-level-1);\n",
       "}\n",
       "\n",
       ".sk-estimator-doc-link.fitted,\n",
       "a:link.sk-estimator-doc-link.fitted,\n",
       "a:visited.sk-estimator-doc-link.fitted {\n",
       "  /* fitted */\n",
       "  border: var(--sklearn-color-fitted-level-1) 1pt solid;\n",
       "  color: var(--sklearn-color-fitted-level-1);\n",
       "}\n",
       "\n",
       "/* On hover */\n",
       "div.sk-estimator:hover .sk-estimator-doc-link:hover,\n",
       ".sk-estimator-doc-link:hover,\n",
       "div.sk-label-container:hover .sk-estimator-doc-link:hover,\n",
       ".sk-estimator-doc-link:hover {\n",
       "  /* unfitted */\n",
       "  background-color: var(--sklearn-color-unfitted-level-3);\n",
       "  color: var(--sklearn-color-background);\n",
       "  text-decoration: none;\n",
       "}\n",
       "\n",
       "div.sk-estimator.fitted:hover .sk-estimator-doc-link.fitted:hover,\n",
       ".sk-estimator-doc-link.fitted:hover,\n",
       "div.sk-label-container:hover .sk-estimator-doc-link.fitted:hover,\n",
       ".sk-estimator-doc-link.fitted:hover {\n",
       "  /* fitted */\n",
       "  background-color: var(--sklearn-color-fitted-level-3);\n",
       "  color: var(--sklearn-color-background);\n",
       "  text-decoration: none;\n",
       "}\n",
       "\n",
       "/* Span, style for the box shown on hovering the info icon */\n",
       ".sk-estimator-doc-link span {\n",
       "  display: none;\n",
       "  z-index: 9999;\n",
       "  position: relative;\n",
       "  font-weight: normal;\n",
       "  right: .2ex;\n",
       "  padding: .5ex;\n",
       "  margin: .5ex;\n",
       "  width: min-content;\n",
       "  min-width: 20ex;\n",
       "  max-width: 50ex;\n",
       "  color: var(--sklearn-color-text);\n",
       "  box-shadow: 2pt 2pt 4pt #999;\n",
       "  /* unfitted */\n",
       "  background: var(--sklearn-color-unfitted-level-0);\n",
       "  border: .5pt solid var(--sklearn-color-unfitted-level-3);\n",
       "}\n",
       "\n",
       ".sk-estimator-doc-link.fitted span {\n",
       "  /* fitted */\n",
       "  background: var(--sklearn-color-fitted-level-0);\n",
       "  border: var(--sklearn-color-fitted-level-3);\n",
       "}\n",
       "\n",
       ".sk-estimator-doc-link:hover span {\n",
       "  display: block;\n",
       "}\n",
       "\n",
       "/* \"?\"-specific style due to the `<a>` HTML tag */\n",
       "\n",
       "#sk-container-id-1 a.estimator_doc_link {\n",
       "  float: right;\n",
       "  font-size: 1rem;\n",
       "  line-height: 1em;\n",
       "  font-family: monospace;\n",
       "  background-color: var(--sklearn-color-background);\n",
       "  border-radius: 1rem;\n",
       "  height: 1rem;\n",
       "  width: 1rem;\n",
       "  text-decoration: none;\n",
       "  /* unfitted */\n",
       "  color: var(--sklearn-color-unfitted-level-1);\n",
       "  border: var(--sklearn-color-unfitted-level-1) 1pt solid;\n",
       "}\n",
       "\n",
       "#sk-container-id-1 a.estimator_doc_link.fitted {\n",
       "  /* fitted */\n",
       "  border: var(--sklearn-color-fitted-level-1) 1pt solid;\n",
       "  color: var(--sklearn-color-fitted-level-1);\n",
       "}\n",
       "\n",
       "/* On hover */\n",
       "#sk-container-id-1 a.estimator_doc_link:hover {\n",
       "  /* unfitted */\n",
       "  background-color: var(--sklearn-color-unfitted-level-3);\n",
       "  color: var(--sklearn-color-background);\n",
       "  text-decoration: none;\n",
       "}\n",
       "\n",
       "#sk-container-id-1 a.estimator_doc_link.fitted:hover {\n",
       "  /* fitted */\n",
       "  background-color: var(--sklearn-color-fitted-level-3);\n",
       "}\n",
       "</style><div id=\"sk-container-id-1\" class=\"sk-top-container\"><div class=\"sk-text-repr-fallback\"><pre>RandomForestRegressor(random_state=42)</pre><b>In a Jupyter environment, please rerun this cell to show the HTML representation or trust the notebook. <br />On GitHub, the HTML representation is unable to render, please try loading this page with nbviewer.org.</b></div><div class=\"sk-container\" hidden><div class=\"sk-item\"><div class=\"sk-estimator fitted sk-toggleable\"><input class=\"sk-toggleable__control sk-hidden--visually\" id=\"sk-estimator-id-1\" type=\"checkbox\" checked><label for=\"sk-estimator-id-1\" class=\"sk-toggleable__label fitted sk-toggleable__label-arrow fitted\">&nbsp;&nbsp;RandomForestRegressor<a class=\"sk-estimator-doc-link fitted\" rel=\"noreferrer\" target=\"_blank\" href=\"https://scikit-learn.org/1.5/modules/generated/sklearn.ensemble.RandomForestRegressor.html\">?<span>Documentation for RandomForestRegressor</span></a><span class=\"sk-estimator-doc-link fitted\">i<span>Fitted</span></span></label><div class=\"sk-toggleable__content fitted\"><pre>RandomForestRegressor(random_state=42)</pre></div> </div></div></div></div>"
      ],
      "text/plain": [
       "RandomForestRegressor(random_state=42)"
      ]
     },
     "execution_count": 21,
     "metadata": {},
     "output_type": "execute_result"
    }
   ],
   "source": [
    "# Initialize \n",
    "rf_regressor = RandomForestRegressor(n_estimators=100, random_state=42)\n",
    "#train \n",
    "rf_regressor.fit(X_train, y_train)"
   ]
  },
  {
   "cell_type": "markdown",
   "id": "857fb530-a612-41dc-9d6e-f40dba8f63fc",
   "metadata": {},
   "source": [
    "we calculate the predictions "
   ]
  },
  {
   "cell_type": "code",
   "execution_count": 22,
   "id": "ef149e13-d4d2-4968-b4f5-4ae52731234d",
   "metadata": {
    "tags": []
   },
   "outputs": [],
   "source": [
    "y_pred = rf_regressor.predict(X_test)\n",
    "#y_pred "
   ]
  },
  {
   "cell_type": "markdown",
   "id": "74a9373c-5103-4a59-903c-e00107ca2642",
   "metadata": {},
   "source": [
    "And we can plot the result."
   ]
  },
  {
   "cell_type": "code",
   "execution_count": 23,
   "id": "1b15165d-b156-4f56-b669-54a6efb0b463",
   "metadata": {},
   "outputs": [
    {
     "data": {
      "image/png": "[encoded data removed]",
      "text/plain": [
       "<Figure size 640x480 with 1 Axes>"
      ]
     },
     "metadata": {},
     "output_type": "display_data"
    }
   ],
   "source": [
    "plt.plot(y_test.reset_index(drop=True), label='true');\n",
    "plt.plot(y_pred, label='predicted');\n",
    "plt.xlabel(\"class index\");\n",
    "plt.ylabel(\"tweet count\");\n",
    "plt.legend();"
   ]
  },
  {
   "cell_type": "markdown",
   "id": "68a4fd73-2446-4417-9ca6-92a22977ee15",
   "metadata": {},
   "source": [
    "As discussed before, most peaks are underestimated"
   ]
  }
 ],
 "metadata": {
  "kernelspec": {
   "display_name": "Python 3 (ipykernel)",
   "language": "python",
   "name": "python3"
  },
  "language_info": {
   "codemirror_mode": {
    "name": "ipython",
    "version": 3
   },
   "file_extension": ".py",
   "mimetype": "text/x-python",
   "name": "python",
   "nbconvert_exporter": "python",
   "pygments_lexer": "ipython3",
   "version": "3.12.2"
  }
 },
 "nbformat": 4,
 "nbformat_minor": 5
}
