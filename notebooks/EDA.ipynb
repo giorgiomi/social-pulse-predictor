{
 "cells": [
  {
   "cell_type": "markdown",
   "id": "6175aa52-ec4a-4583-9da6-cf24c85b4d1a",
   "metadata": {},
   "source": [
    "## Explatory Data Analysis (EDA)\n",
    "This notebook contains the Exploratory Data Analysis for the project, starting from the Trentino database, created by G. Barlacchi and presented in this [paper](https://www.nature.com/articles/sdata201555). The data analysed is social (Twitter), weather (precipitations, temperature, wind) and electrical."
   ]
  },
  {
   "cell_type": "markdown",
   "id": "403a9b1b-b603-4d3f-b350-03e81ef6e4ab",
   "metadata": {},
   "source": [
    "First, let's import some useful libraries."
   ]
  },
  {
   "cell_type": "code",
   "execution_count": 48,
   "id": "9702fa03-ce53-4759-96bd-f5d5ed095ec0",
   "metadata": {},
   "outputs": [],
   "source": [
    "import json\n",
    "import sys\n",
    "import geopandas as gpd\n",
    "from shapely.geometry import Point\n",
    "import matplotlib.pyplot as plt\n",
    "import pandas as pd\n",
    "import numpy as np\n",
    "\n",
    "import warnings\n",
    "warnings.filterwarnings('ignore')"
   ]
  },
  {
   "cell_type": "markdown",
   "id": "b52c850f-5607-4ee4-8be9-cee7a19019c7",
   "metadata": {},
   "source": [
    "Initially, we consider only the Twitter and weather data. So, let's load the data contained in the files `meteotrentino-weather-station-data.json` and `social-pulse-trentino.geojson`:"
   ]
  },
  {
   "cell_type": "code",
   "execution_count": 49,
   "id": "616fedf6-268a-4301-8f2d-ba8dd96eb29f",
   "metadata": {},
   "outputs": [],
   "source": [
    "with open('../data/raw/meteotrentino-weather-station-data.json') as json_file:\n",
    "    data_weather = json.load(json_file)\n",
    "with open('../data/raw/social-pulse-trentino.geojson') as json_file:\n",
    "    data_twitter = json.load(json_file)"
   ]
  },
  {
   "cell_type": "markdown",
   "id": "ee200d52-a981-4f99-a990-898495bb5d56",
   "metadata": {},
   "source": [
    "It is necessary to import also the Trentino geojson grid:"
   ]
  },
  {
   "cell_type": "code",
   "execution_count": 50,
   "id": "1d4d4f42-c4d7-4e4f-846f-17b2c4ed5b98",
   "metadata": {},
   "outputs": [],
   "source": [
    "grid_path = '../data/raw/trentino-grid.geojson'\n",
    "df_grid = gpd.read_file(grid_path)"
   ]
  },
  {
   "cell_type": "markdown",
   "id": "2c240e1c-d379-46ea-b1c7-37f548f7ccb3",
   "metadata": {},
   "source": [
    "Now, from the json files, we extract only the features (they contain also metadata):"
   ]
  },
  {
   "cell_type": "code",
   "execution_count": 51,
   "id": "7ddc15b1-90da-474b-9479-c3f58d62c0d2",
   "metadata": {},
   "outputs": [],
   "source": [
    "twitter_features = gpd.GeoDataFrame(data_twitter['features'])\n",
    "weather_features = gpd.GeoDataFrame(data_weather['features'])"
   ]
  },
  {
   "cell_type": "markdown",
   "id": "236f89f7-6da2-4d90-ae9b-a167453a0fab",
   "metadata": {},
   "source": [
    "They look something like this:"
   ]
  },
  {
   "cell_type": "code",
   "execution_count": 52,
   "id": "f781d648-bf25-4edf-886e-e68df03ee362",
   "metadata": {},
   "outputs": [
    {
     "data": {
      "text/html": [
       "<div>\n",
       "<style scoped>\n",
       "    .dataframe tbody tr th:only-of-type {\n",
       "        vertical-align: middle;\n",
       "    }\n",
       "\n",
       "    .dataframe tbody tr th {\n",
       "        vertical-align: top;\n",
       "    }\n",
       "\n",
       "    .dataframe thead th {\n",
       "        text-align: right;\n",
       "    }\n",
       "</style>\n",
       "<table border=\"1\" class=\"dataframe\">\n",
       "  <thead>\n",
       "    <tr style=\"text-align: right;\">\n",
       "      <th></th>\n",
       "      <th>created</th>\n",
       "      <th>timestamp</th>\n",
       "      <th>user</th>\n",
       "      <th>geomPoint.geom</th>\n",
       "      <th>municipality.name</th>\n",
       "      <th>municipality.acheneID</th>\n",
       "      <th>language</th>\n",
       "      <th>entities</th>\n",
       "    </tr>\n",
       "  </thead>\n",
       "  <tbody>\n",
       "    <tr>\n",
       "      <th>0</th>\n",
       "      <td>2013-11-01T00:04:16</td>\n",
       "      <td>1383260656</td>\n",
       "      <td>5fd4f31f75</td>\n",
       "      <td>{'type': 'Point', 'coordinates': [11.13, 46.07]}</td>\n",
       "      <td>Trento</td>\n",
       "      <td>http://dandelion.eu/resource/05a192433bede90cd...</td>\n",
       "      <td>it</td>\n",
       "      <td>[]</td>\n",
       "    </tr>\n",
       "    <tr>\n",
       "      <th>1</th>\n",
       "      <td>2013-11-01T00:01:14</td>\n",
       "      <td>1383260474</td>\n",
       "      <td>68c0e98182</td>\n",
       "      <td>{'type': 'Point', 'coordinates': [10.83, 46.23]}</td>\n",
       "      <td>Pinzolo</td>\n",
       "      <td>http://dandelion.eu/resource/96e35a90e246ca017...</td>\n",
       "      <td>tl</td>\n",
       "      <td>[http://it.dbpedia.org/resource/Madonna_di_Cam...</td>\n",
       "    </tr>\n",
       "    <tr>\n",
       "      <th>2</th>\n",
       "      <td>2013-11-01T00:43:03</td>\n",
       "      <td>1383262983</td>\n",
       "      <td>abe21fc052</td>\n",
       "      <td>{'type': 'Point', 'coordinates': [11.46, 46.29]}</td>\n",
       "      <td>Cavalese</td>\n",
       "      <td>http://dandelion.eu/resource/01f847397f180d6c0...</td>\n",
       "      <td>en</td>\n",
       "      <td>[http://dbpedia.org/resource/Coven, http://dbp...</td>\n",
       "    </tr>\n",
       "    <tr>\n",
       "      <th>3</th>\n",
       "      <td>2013-11-01T00:38:37</td>\n",
       "      <td>1383262717</td>\n",
       "      <td>94d1efbbfd</td>\n",
       "      <td>{'type': 'Point', 'coordinates': [11.04, 45.89]}</td>\n",
       "      <td>Rovereto</td>\n",
       "      <td>http://dandelion.eu/resource/1841c30a560050875...</td>\n",
       "      <td>it</td>\n",
       "      <td>[]</td>\n",
       "    </tr>\n",
       "    <tr>\n",
       "      <th>4</th>\n",
       "      <td>2013-11-01T00:45:40</td>\n",
       "      <td>1383263140</td>\n",
       "      <td>d261d03075</td>\n",
       "      <td>{'type': 'Point', 'coordinates': [11.12, 46.2]}</td>\n",
       "      <td>San Michele all'Adige</td>\n",
       "      <td>http://dandelion.eu/resource/32ca86fe3c8f5988a...</td>\n",
       "      <td>ru</td>\n",
       "      <td>[http://it.dbpedia.org/resource/Rotari]</td>\n",
       "    </tr>\n",
       "  </tbody>\n",
       "</table>\n",
       "</div>"
      ],
      "text/plain": [
       "               created   timestamp        user  \\\n",
       "0  2013-11-01T00:04:16  1383260656  5fd4f31f75   \n",
       "1  2013-11-01T00:01:14  1383260474  68c0e98182   \n",
       "2  2013-11-01T00:43:03  1383262983  abe21fc052   \n",
       "3  2013-11-01T00:38:37  1383262717  94d1efbbfd   \n",
       "4  2013-11-01T00:45:40  1383263140  d261d03075   \n",
       "\n",
       "                                     geomPoint.geom      municipality.name  \\\n",
       "0  {'type': 'Point', 'coordinates': [11.13, 46.07]}                 Trento   \n",
       "1  {'type': 'Point', 'coordinates': [10.83, 46.23]}                Pinzolo   \n",
       "2  {'type': 'Point', 'coordinates': [11.46, 46.29]}               Cavalese   \n",
       "3  {'type': 'Point', 'coordinates': [11.04, 45.89]}               Rovereto   \n",
       "4   {'type': 'Point', 'coordinates': [11.12, 46.2]}  San Michele all'Adige   \n",
       "\n",
       "                               municipality.acheneID language  \\\n",
       "0  http://dandelion.eu/resource/05a192433bede90cd...       it   \n",
       "1  http://dandelion.eu/resource/96e35a90e246ca017...       tl   \n",
       "2  http://dandelion.eu/resource/01f847397f180d6c0...       en   \n",
       "3  http://dandelion.eu/resource/1841c30a560050875...       it   \n",
       "4  http://dandelion.eu/resource/32ca86fe3c8f5988a...       ru   \n",
       "\n",
       "                                            entities  \n",
       "0                                                 []  \n",
       "1  [http://it.dbpedia.org/resource/Madonna_di_Cam...  \n",
       "2  [http://dbpedia.org/resource/Coven, http://dbp...  \n",
       "3                                                 []  \n",
       "4            [http://it.dbpedia.org/resource/Rotari]  "
      ]
     },
     "execution_count": 52,
     "metadata": {},
     "output_type": "execute_result"
    }
   ],
   "source": [
    "twitter_features.head()"
   ]
  },
  {
   "cell_type": "code",
   "execution_count": 53,
   "id": "7e419580-7d91-404b-bb6e-c90573959d41",
   "metadata": {},
   "outputs": [
    {
     "data": {
      "text/html": [
       "<div>\n",
       "<style scoped>\n",
       "    .dataframe tbody tr th:only-of-type {\n",
       "        vertical-align: middle;\n",
       "    }\n",
       "\n",
       "    .dataframe tbody tr th {\n",
       "        vertical-align: top;\n",
       "    }\n",
       "\n",
       "    .dataframe thead th {\n",
       "        text-align: right;\n",
       "    }\n",
       "</style>\n",
       "<table border=\"1\" class=\"dataframe\">\n",
       "  <thead>\n",
       "    <tr style=\"text-align: right;\">\n",
       "      <th></th>\n",
       "      <th>station</th>\n",
       "      <th>geomPoint.geom</th>\n",
       "      <th>elevation</th>\n",
       "      <th>date</th>\n",
       "      <th>timestamp</th>\n",
       "      <th>minTemperature</th>\n",
       "      <th>maxTemperature</th>\n",
       "      <th>precipitation</th>\n",
       "      <th>minWind</th>\n",
       "      <th>maxWind</th>\n",
       "      <th>...</th>\n",
       "      <th>winds.2130</th>\n",
       "      <th>winds.2145</th>\n",
       "      <th>winds.2200</th>\n",
       "      <th>winds.2215</th>\n",
       "      <th>winds.2230</th>\n",
       "      <th>winds.2245</th>\n",
       "      <th>winds.2300</th>\n",
       "      <th>winds.2315</th>\n",
       "      <th>winds.2330</th>\n",
       "      <th>winds.2345</th>\n",
       "    </tr>\n",
       "  </thead>\n",
       "  <tbody>\n",
       "    <tr>\n",
       "      <th>0</th>\n",
       "      <td>T0071</td>\n",
       "      <td>{'type': 'Point', 'coordinates': [10.79582897,...</td>\n",
       "      <td>905</td>\n",
       "      <td>2013-11-01</td>\n",
       "      <td>1383260400</td>\n",
       "      <td>4.5</td>\n",
       "      <td>12.3</td>\n",
       "      <td>False</td>\n",
       "      <td>0.0</td>\n",
       "      <td>2.5</td>\n",
       "      <td>...</td>\n",
       "      <td>0@183</td>\n",
       "      <td></td>\n",
       "      <td>0@157</td>\n",
       "      <td></td>\n",
       "      <td>0.4@228</td>\n",
       "      <td>0.3@248</td>\n",
       "      <td></td>\n",
       "      <td>0@201</td>\n",
       "      <td>0@199</td>\n",
       "      <td></td>\n",
       "    </tr>\n",
       "    <tr>\n",
       "      <th>1</th>\n",
       "      <td>T0032</td>\n",
       "      <td>{'type': 'Point', 'coordinates': [11.25371981,...</td>\n",
       "      <td>1155</td>\n",
       "      <td>2013-11-01</td>\n",
       "      <td>1383260400</td>\n",
       "      <td>6.5</td>\n",
       "      <td>10.2</td>\n",
       "      <td>False</td>\n",
       "      <td>NaN</td>\n",
       "      <td>NaN</td>\n",
       "      <td>...</td>\n",
       "      <td></td>\n",
       "      <td></td>\n",
       "      <td></td>\n",
       "      <td></td>\n",
       "      <td></td>\n",
       "      <td></td>\n",
       "      <td></td>\n",
       "      <td></td>\n",
       "      <td></td>\n",
       "      <td></td>\n",
       "    </tr>\n",
       "    <tr>\n",
       "      <th>2</th>\n",
       "      <td>T0096</td>\n",
       "      <td>{'type': 'Point', 'coordinates': [11.6645808, ...</td>\n",
       "      <td>1205</td>\n",
       "      <td>2013-11-01</td>\n",
       "      <td>1383260400</td>\n",
       "      <td>6.5</td>\n",
       "      <td>11.8</td>\n",
       "      <td>False</td>\n",
       "      <td>NaN</td>\n",
       "      <td>NaN</td>\n",
       "      <td>...</td>\n",
       "      <td></td>\n",
       "      <td></td>\n",
       "      <td></td>\n",
       "      <td></td>\n",
       "      <td></td>\n",
       "      <td></td>\n",
       "      <td></td>\n",
       "      <td></td>\n",
       "      <td></td>\n",
       "      <td></td>\n",
       "    </tr>\n",
       "    <tr>\n",
       "      <th>3</th>\n",
       "      <td>T0074</td>\n",
       "      <td>{'type': 'Point', 'coordinates': [10.91841055,...</td>\n",
       "      <td>720</td>\n",
       "      <td>2013-11-01</td>\n",
       "      <td>1383260400</td>\n",
       "      <td>6.2</td>\n",
       "      <td>13.6</td>\n",
       "      <td>False</td>\n",
       "      <td>0.0</td>\n",
       "      <td>4.8</td>\n",
       "      <td>...</td>\n",
       "      <td>0.3@198</td>\n",
       "      <td>0.3@196</td>\n",
       "      <td>0.4@236</td>\n",
       "      <td></td>\n",
       "      <td>0.9@15</td>\n",
       "      <td>0.6@345</td>\n",
       "      <td>1@244</td>\n",
       "      <td>0.5@192</td>\n",
       "      <td>0@157</td>\n",
       "      <td></td>\n",
       "    </tr>\n",
       "    <tr>\n",
       "      <th>4</th>\n",
       "      <td>T0101</td>\n",
       "      <td>{'type': 'Point', 'coordinates': [11.07973339,...</td>\n",
       "      <td>201</td>\n",
       "      <td>2013-11-01</td>\n",
       "      <td>1383260400</td>\n",
       "      <td>11.1</td>\n",
       "      <td>16.3</td>\n",
       "      <td>False</td>\n",
       "      <td>NaN</td>\n",
       "      <td>NaN</td>\n",
       "      <td>...</td>\n",
       "      <td></td>\n",
       "      <td></td>\n",
       "      <td></td>\n",
       "      <td></td>\n",
       "      <td></td>\n",
       "      <td></td>\n",
       "      <td></td>\n",
       "      <td></td>\n",
       "      <td></td>\n",
       "      <td></td>\n",
       "    </tr>\n",
       "  </tbody>\n",
       "</table>\n",
       "<p>5 rows × 298 columns</p>\n",
       "</div>"
      ],
      "text/plain": [
       "  station                                     geomPoint.geom  elevation  \\\n",
       "0   T0071  {'type': 'Point', 'coordinates': [10.79582897,...        905   \n",
       "1   T0032  {'type': 'Point', 'coordinates': [11.25371981,...       1155   \n",
       "2   T0096  {'type': 'Point', 'coordinates': [11.6645808, ...       1205   \n",
       "3   T0074  {'type': 'Point', 'coordinates': [10.91841055,...        720   \n",
       "4   T0101  {'type': 'Point', 'coordinates': [11.07973339,...        201   \n",
       "\n",
       "         date   timestamp  minTemperature  maxTemperature  precipitation  \\\n",
       "0  2013-11-01  1383260400             4.5            12.3          False   \n",
       "1  2013-11-01  1383260400             6.5            10.2          False   \n",
       "2  2013-11-01  1383260400             6.5            11.8          False   \n",
       "3  2013-11-01  1383260400             6.2            13.6          False   \n",
       "4  2013-11-01  1383260400            11.1            16.3          False   \n",
       "\n",
       "   minWind  maxWind  ...  winds.2130  winds.2145  winds.2200  winds.2215  \\\n",
       "0      0.0      2.5  ...       0@183                   0@157               \n",
       "1      NaN      NaN  ...                                                   \n",
       "2      NaN      NaN  ...                                                   \n",
       "3      0.0      4.8  ...     0.3@198     0.3@196     0.4@236               \n",
       "4      NaN      NaN  ...                                                   \n",
       "\n",
       "   winds.2230  winds.2245  winds.2300  winds.2315  winds.2330  winds.2345  \n",
       "0     0.4@228     0.3@248                   0@201       0@199              \n",
       "1                                                                          \n",
       "2                                                                          \n",
       "3      0.9@15     0.6@345       1@244     0.5@192       0@157              \n",
       "4                                                                          \n",
       "\n",
       "[5 rows x 298 columns]"
      ]
     },
     "execution_count": 53,
     "metadata": {},
     "output_type": "execute_result"
    }
   ],
   "source": [
    "weather_features.head()"
   ]
  },
  {
   "cell_type": "markdown",
   "id": "ef117e3d-8878-4e48-bb88-cb78b3c362eb",
   "metadata": {},
   "source": [
    "We decide to remove unnecessary features to `twitter_features` (user, municipality ID, language, entities):"
   ]
  },
  {
   "cell_type": "code",
   "execution_count": 54,
   "id": "4c5f893f-56ef-4ac8-a576-4d32f6939adf",
   "metadata": {},
   "outputs": [],
   "source": [
    "twitter_features = twitter_features.drop('entities', axis=1)\n",
    "twitter_features = twitter_features.drop('municipality.acheneID', axis=1)\n",
    "twitter_features = twitter_features.drop('language', axis=1)\n",
    "twitter_features = twitter_features.drop('user', axis=1)"
   ]
  },
  {
   "cell_type": "markdown",
   "id": "a5010aab-645e-4f0f-8f5c-25a4ca979952",
   "metadata": {},
   "source": [
    "Our goal now is to associate to each tweet its weather data, but there are two problems:\n",
    "1. weather data is collected every 15 minutes and not every second;\n",
    "2. weather data is referred to a weather station and not to the specific location of the tweet.\n"
   ]
  },
  {
   "cell_type": "markdown",
   "id": "e062636b-02cb-4db3-8ae0-e952addc5b39",
   "metadata": {},
   "source": [
    "### 15-minutes blocks"
   ]
  },
  {
   "cell_type": "markdown",
   "id": "c4e3b2ed-46c8-4b2e-8afa-64f394ded114",
   "metadata": {},
   "source": [
    "Let's solve the first problem by assigning to each tweet its 15-minutes block. We need to split the `created` column into date and time:"
   ]
  },
  {
   "cell_type": "code",
   "execution_count": 55,
   "id": "66a8113f-538f-4dc7-abc5-0e2ff665f745",
   "metadata": {},
   "outputs": [],
   "source": [
    "twitter_features['date'] = twitter_features['created'].str.split('T').str[0]\n",
    "twitter_features['time'] = twitter_features['created'].str.split('T').str[1]\n",
    "twitter_features = twitter_features.drop('created', axis=1)\n",
    "twitter_features = twitter_features[['date', 'time', 'timestamp', 'geomPoint.geom', 'municipality.name']]"
   ]
  },
  {
   "cell_type": "markdown",
   "id": "bcd86e2e-3d90-4899-bc01-f773b5e44d21",
   "metadata": {},
   "source": [
    "Since we need blocks of 15 minutes, we can ignore seconds:"
   ]
  },
  {
   "cell_type": "code",
   "execution_count": 56,
   "id": "785ad66e-c919-496e-b4b2-460b98ca9df6",
   "metadata": {},
   "outputs": [],
   "source": [
    "twitter_features['time'] = twitter_features['time'].str.rsplit(':', n=1).str[0]"
   ]
  },
  {
   "cell_type": "markdown",
   "id": "f54b1501-e893-4459-995d-61c2d755f878",
   "metadata": {},
   "source": [
    "For the blocks, it is just a simple integer division, but it is important to write the blocks in the format HHMM, to match the weather data:"
   ]
  },
  {
   "cell_type": "code",
   "execution_count": 57,
   "id": "d6a98d55-545b-40c1-b007-521478e1b27b",
   "metadata": {},
   "outputs": [],
   "source": [
    "minutes = twitter_features['time'].str.rsplit(':', n=1).str[1].astype(int)\n",
    "minutes = ((minutes//15)*15).astype(str).str.zfill(2)\n",
    "\n",
    "hours = twitter_features['time'].str.rsplit(':', n=1).str[0]\n",
    "\n",
    "twitter_features['hour_blocks'] = hours + minutes"
   ]
  },
  {
   "cell_type": "code",
   "execution_count": 58,
   "id": "623d0659-104a-4cc4-8181-461a4f7a9e5a",
   "metadata": {},
   "outputs": [
    {
     "data": {
      "text/html": [
       "<div>\n",
       "<style scoped>\n",
       "    .dataframe tbody tr th:only-of-type {\n",
       "        vertical-align: middle;\n",
       "    }\n",
       "\n",
       "    .dataframe tbody tr th {\n",
       "        vertical-align: top;\n",
       "    }\n",
       "\n",
       "    .dataframe thead th {\n",
       "        text-align: right;\n",
       "    }\n",
       "</style>\n",
       "<table border=\"1\" class=\"dataframe\">\n",
       "  <thead>\n",
       "    <tr style=\"text-align: right;\">\n",
       "      <th></th>\n",
       "      <th>date</th>\n",
       "      <th>time</th>\n",
       "      <th>timestamp</th>\n",
       "      <th>geomPoint.geom</th>\n",
       "      <th>municipality.name</th>\n",
       "      <th>hour_blocks</th>\n",
       "    </tr>\n",
       "  </thead>\n",
       "  <tbody>\n",
       "    <tr>\n",
       "      <th>0</th>\n",
       "      <td>2013-11-01</td>\n",
       "      <td>00:04</td>\n",
       "      <td>1383260656</td>\n",
       "      <td>{'type': 'Point', 'coordinates': [11.13, 46.07]}</td>\n",
       "      <td>Trento</td>\n",
       "      <td>0000</td>\n",
       "    </tr>\n",
       "    <tr>\n",
       "      <th>1</th>\n",
       "      <td>2013-11-01</td>\n",
       "      <td>00:01</td>\n",
       "      <td>1383260474</td>\n",
       "      <td>{'type': 'Point', 'coordinates': [10.83, 46.23]}</td>\n",
       "      <td>Pinzolo</td>\n",
       "      <td>0000</td>\n",
       "    </tr>\n",
       "    <tr>\n",
       "      <th>2</th>\n",
       "      <td>2013-11-01</td>\n",
       "      <td>00:43</td>\n",
       "      <td>1383262983</td>\n",
       "      <td>{'type': 'Point', 'coordinates': [11.46, 46.29]}</td>\n",
       "      <td>Cavalese</td>\n",
       "      <td>0030</td>\n",
       "    </tr>\n",
       "    <tr>\n",
       "      <th>3</th>\n",
       "      <td>2013-11-01</td>\n",
       "      <td>00:38</td>\n",
       "      <td>1383262717</td>\n",
       "      <td>{'type': 'Point', 'coordinates': [11.04, 45.89]}</td>\n",
       "      <td>Rovereto</td>\n",
       "      <td>0030</td>\n",
       "    </tr>\n",
       "    <tr>\n",
       "      <th>4</th>\n",
       "      <td>2013-11-01</td>\n",
       "      <td>00:45</td>\n",
       "      <td>1383263140</td>\n",
       "      <td>{'type': 'Point', 'coordinates': [11.12, 46.2]}</td>\n",
       "      <td>San Michele all'Adige</td>\n",
       "      <td>0045</td>\n",
       "    </tr>\n",
       "  </tbody>\n",
       "</table>\n",
       "</div>"
      ],
      "text/plain": [
       "         date   time   timestamp  \\\n",
       "0  2013-11-01  00:04  1383260656   \n",
       "1  2013-11-01  00:01  1383260474   \n",
       "2  2013-11-01  00:43  1383262983   \n",
       "3  2013-11-01  00:38  1383262717   \n",
       "4  2013-11-01  00:45  1383263140   \n",
       "\n",
       "                                     geomPoint.geom      municipality.name  \\\n",
       "0  {'type': 'Point', 'coordinates': [11.13, 46.07]}                 Trento   \n",
       "1  {'type': 'Point', 'coordinates': [10.83, 46.23]}                Pinzolo   \n",
       "2  {'type': 'Point', 'coordinates': [11.46, 46.29]}               Cavalese   \n",
       "3  {'type': 'Point', 'coordinates': [11.04, 45.89]}               Rovereto   \n",
       "4   {'type': 'Point', 'coordinates': [11.12, 46.2]}  San Michele all'Adige   \n",
       "\n",
       "  hour_blocks  \n",
       "0        0000  \n",
       "1        0000  \n",
       "2        0030  \n",
       "3        0030  \n",
       "4        0045  "
      ]
     },
     "execution_count": 58,
     "metadata": {},
     "output_type": "execute_result"
    }
   ],
   "source": [
    "twitter_features.head()"
   ]
  },
  {
   "cell_type": "markdown",
   "id": "353011e1-a985-4f6d-9a04-3710f79cbca8",
   "metadata": {},
   "source": [
    "### Stations dataframe and geometry"
   ]
  },
  {
   "cell_type": "markdown",
   "id": "d854bada-52b0-46f5-91e7-9bc6b2e80426",
   "metadata": {},
   "source": [
    "The first problem is now assessed, and we should build a stations dataframe to work with them:"
   ]
  },
  {
   "cell_type": "code",
   "execution_count": 59,
   "id": "4f3f746c-78c8-49f5-94c2-5e6be8eadcd8",
   "metadata": {},
   "outputs": [],
   "source": [
    "df_stations = weather_features[['station', 'geomPoint.geom']]\n",
    "df_stations.drop_duplicates(subset='station', keep='first', inplace=True)"
   ]
  },
  {
   "cell_type": "markdown",
   "id": "5c3859bc-2e18-48ac-a563-c35906193c96",
   "metadata": {},
   "source": [
    "For all data, it is necessary to transform the geometry column using the library `shapely.geometry.Point`"
   ]
  },
  {
   "cell_type": "code",
   "execution_count": 60,
   "id": "38632b00-deec-408d-a6de-261050fb9b10",
   "metadata": {},
   "outputs": [],
   "source": [
    "df_stations['geometry'] = df_stations['geomPoint.geom'].apply(lambda x:Point(x['coordinates'][0], x['coordinates'][1]))\n",
    "df_stations.drop(columns=['geomPoint.geom'],inplace=True)\n",
    "df_stations = gpd.GeoDataFrame(df_stations, geometry='geometry')"
   ]
  },
  {
   "cell_type": "code",
   "execution_count": 61,
   "id": "cd462e2c-9c7c-4b9e-9005-4fe709091d6b",
   "metadata": {},
   "outputs": [],
   "source": [
    "twitter_features['geometry'] = twitter_features['geomPoint.geom'].apply(lambda x:Point(x['coordinates'][0], x['coordinates'][1]))\n",
    "twitter_features.drop(columns=['geomPoint.geom'],inplace=True)\n",
    "twitter_features = gpd.GeoDataFrame(twitter_features, geometry='geometry')"
   ]
  },
  {
   "cell_type": "code",
   "execution_count": 62,
   "id": "c3ecb02f-ce93-4c82-b16d-a033b8b4ec53",
   "metadata": {},
   "outputs": [],
   "source": [
    "weather_features['geometry'] = weather_features['geomPoint.geom'].apply(lambda x:Point(x['coordinates'][0], x['coordinates'][1]))\n",
    "weather_features.drop(columns=['geomPoint.geom'],inplace=True)\n",
    "weather_features = gpd.GeoDataFrame(weather_features, geometry='geometry')"
   ]
  },
  {
   "cell_type": "markdown",
   "id": "0a62fb11-43ab-4236-b362-e0f99f8b6c66",
   "metadata": {},
   "source": [
    "### Choosing the station"
   ]
  },
  {
   "cell_type": "markdown",
   "id": "850954c0-7be7-4b69-8ba7-317053cdd3ed",
   "metadata": {},
   "source": [
    "To solve the second problem, we decide to assign to each tweet its nearest station, calculating the distance between the tweet location and the station location."
   ]
  },
  {
   "cell_type": "markdown",
   "id": "763d79f4-37b2-4fb9-bfa1-a9a1cf68d308",
   "metadata": {},
   "source": [
    "Since we are on a curved surface, for two points that have:\n",
    "\\begin{align}\n",
    "    &\\Delta \\lambda = \\lambda_2 - \\lambda_1 \\quad \\text{the difference of longitude} \\\\\n",
    "    &\\Delta \\phi = \\phi_2 - \\phi_1 \\quad \\text{the difference of latitude}\\ ,\n",
    "\\end{align}\n",
    "we use the [Haversine distance](https://en.wikipedia.org/wiki/Haversine_formula):\n",
    "\\begin{equation}\n",
    "d = 2r\\arcsin{\\sqrt{\\sin^2\\left(\\frac{\\Delta\\phi}{2}\\right) + \\cos\\phi_1 \\cos\\phi_2 \\sin^2\\left(\\frac{\\Delta\\lambda}{2}\\right)}}\n",
    "\\end{equation}\n",
    "and we search through each station to find the one with the minimum distance.\n",
    "\n",
    "We start by defining the Haversine distance function (it returns the distance in km):"
   ]
  },
  {
   "cell_type": "code",
   "execution_count": 64,
   "id": "fd40cc8a-c798-48da-afda-d0db4b93a070",
   "metadata": {},
   "outputs": [],
   "source": [
    "def haversine_distance(lat1, lon1, lat2, lon2):    \n",
    "    # Convert latitude and longitude from degrees to radians\n",
    "    lat1, lon1, lat2, lon2 = map(np.radians, [lat1, lon1, lat2, lon2])\n",
    "    \n",
    "    # Haversine formula    \n",
    "    dlat = lat2 - lat1[:, np.newaxis]\n",
    "    dlon = lon2 - lon1[:, np.newaxis]    \n",
    "    a = np.sin(dlat / 2)**2 + np.cos(lat1[:, np.newaxis]) * np.cos(lat2) * np.sin(dlon / 2)**2\n",
    "    c = 2 * np.arcsin(np.sqrt(a))\n",
    "    \n",
    "    # Earth's radius in kilometers (6371 km)    \n",
    "    radius = 6371\n",
    "    \n",
    "    return radius * c"
   ]
  },
  {
   "cell_type": "markdown",
   "id": "2e8b2540-3d4b-433d-8740-15f33a9743ac",
   "metadata": {},
   "source": [
    "And it is now just of matter of computing it for every tweet and station:"
   ]
  },
  {
   "cell_type": "code",
   "execution_count": 65,
   "id": "0ffa477a-b349-43a5-9221-23fcf47507d9",
   "metadata": {},
   "outputs": [],
   "source": [
    "twitter_lat = np.array(twitter_features.get_coordinates()['y'])\n",
    "twitter_lon = np.array(twitter_features.get_coordinates()['x'])\n",
    "station_lat = np.array(df_stations.get_coordinates()['y'])\n",
    "station_lon = np.array(df_stations.get_coordinates()['x'])"
   ]
  },
  {
   "cell_type": "code",
   "execution_count": 66,
   "id": "d52a44d8-b575-43a8-8b2d-0bfca049f1fa",
   "metadata": {},
   "outputs": [],
   "source": [
    "distances = haversine_distance(twitter_lat, twitter_lon, station_lat, station_lon)"
   ]
  },
  {
   "cell_type": "code",
   "execution_count": 67,
   "id": "2031d7e2-9c94-4541-b87a-e594210999cc",
   "metadata": {},
   "outputs": [],
   "source": [
    "nearest_station_index = np.argmin(distances, axis=1).flatten()"
   ]
  },
  {
   "cell_type": "code",
   "execution_count": 68,
   "id": "063d1529-75b0-4a96-903e-bd8274eeccfd",
   "metadata": {},
   "outputs": [],
   "source": [
    "twitter_features['station'] = df_stations['station'].iloc[nearest_station_index].values"
   ]
  },
  {
   "cell_type": "code",
   "execution_count": 73,
   "id": "81ef7eb8-c593-4f3e-8752-2ae630ad45fa",
   "metadata": {},
   "outputs": [
    {
     "data": {
      "text/html": [
       "<div>\n",
       "<style scoped>\n",
       "    .dataframe tbody tr th:only-of-type {\n",
       "        vertical-align: middle;\n",
       "    }\n",
       "\n",
       "    .dataframe tbody tr th {\n",
       "        vertical-align: top;\n",
       "    }\n",
       "\n",
       "    .dataframe thead th {\n",
       "        text-align: right;\n",
       "    }\n",
       "</style>\n",
       "<table border=\"1\" class=\"dataframe\">\n",
       "  <thead>\n",
       "    <tr style=\"text-align: right;\">\n",
       "      <th></th>\n",
       "      <th>date</th>\n",
       "      <th>time</th>\n",
       "      <th>timestamp</th>\n",
       "      <th>municipality.name</th>\n",
       "      <th>hour_blocks</th>\n",
       "      <th>geometry</th>\n",
       "      <th>station</th>\n",
       "    </tr>\n",
       "  </thead>\n",
       "  <tbody>\n",
       "    <tr>\n",
       "      <th>0</th>\n",
       "      <td>2013-11-01</td>\n",
       "      <td>00:04</td>\n",
       "      <td>1383260656</td>\n",
       "      <td>Trento</td>\n",
       "      <td>0000</td>\n",
       "      <td>POINT (11.13000 46.07000)</td>\n",
       "      <td>T0129</td>\n",
       "    </tr>\n",
       "    <tr>\n",
       "      <th>1</th>\n",
       "      <td>2013-11-01</td>\n",
       "      <td>00:01</td>\n",
       "      <td>1383260474</td>\n",
       "      <td>Pinzolo</td>\n",
       "      <td>0000</td>\n",
       "      <td>POINT (10.83000 46.23000)</td>\n",
       "      <td>T0071</td>\n",
       "    </tr>\n",
       "    <tr>\n",
       "      <th>2</th>\n",
       "      <td>2013-11-01</td>\n",
       "      <td>00:43</td>\n",
       "      <td>1383262983</td>\n",
       "      <td>Cavalese</td>\n",
       "      <td>0030</td>\n",
       "      <td>POINT (11.46000 46.29000)</td>\n",
       "      <td>T0367</td>\n",
       "    </tr>\n",
       "    <tr>\n",
       "      <th>3</th>\n",
       "      <td>2013-11-01</td>\n",
       "      <td>00:38</td>\n",
       "      <td>1383262717</td>\n",
       "      <td>Rovereto</td>\n",
       "      <td>0030</td>\n",
       "      <td>POINT (11.04000 45.89000)</td>\n",
       "      <td>T0147</td>\n",
       "    </tr>\n",
       "    <tr>\n",
       "      <th>4</th>\n",
       "      <td>2013-11-01</td>\n",
       "      <td>00:45</td>\n",
       "      <td>1383263140</td>\n",
       "      <td>San Michele all'Adige</td>\n",
       "      <td>0045</td>\n",
       "      <td>POINT (11.12000 46.20000)</td>\n",
       "      <td>T0408</td>\n",
       "    </tr>\n",
       "  </tbody>\n",
       "</table>\n",
       "</div>"
      ],
      "text/plain": [
       "         date   time   timestamp      municipality.name hour_blocks  \\\n",
       "0  2013-11-01  00:04  1383260656                 Trento        0000   \n",
       "1  2013-11-01  00:01  1383260474                Pinzolo        0000   \n",
       "2  2013-11-01  00:43  1383262983               Cavalese        0030   \n",
       "3  2013-11-01  00:38  1383262717               Rovereto        0030   \n",
       "4  2013-11-01  00:45  1383263140  San Michele all'Adige        0045   \n",
       "\n",
       "                    geometry station  \n",
       "0  POINT (11.13000 46.07000)   T0129  \n",
       "1  POINT (10.83000 46.23000)   T0071  \n",
       "2  POINT (11.46000 46.29000)   T0367  \n",
       "3  POINT (11.04000 45.89000)   T0147  \n",
       "4  POINT (11.12000 46.20000)   T0408  "
      ]
     },
     "execution_count": 73,
     "metadata": {},
     "output_type": "execute_result"
    }
   ],
   "source": [
    "twitter_features.head()"
   ]
  },
  {
   "cell_type": "markdown",
   "id": "85375204-251a-4c1e-81b2-0c58812317d7",
   "metadata": {},
   "source": [
    "It is nice to look at a plot of the tweets grouped by station."
   ]
  },
  {
   "cell_type": "code",
   "execution_count": 87,
   "id": "8e2e31a1-7f74-473d-b6d1-c27920bfe398",
   "metadata": {},
   "outputs": [
    {
     "data": {
      "text/plain": [
       "<Axes: >"
      ]
     },
     "execution_count": 87,
     "metadata": {},
     "output_type": "execute_result"
    },
    {
     "data": {
      "image/png": "[encoded data removed]",
      "text/plain": [
       "<Figure size 640x480 with 1 Axes>"
      ]
     },
     "metadata": {},
     "output_type": "display_data"
    }
   ],
   "source": [
    "ax = df_grid.plot(color='white')\n",
    "\n",
    "#twitter_features = gpd.GeoDataFrame(twitter_features)\n",
    "twitter_features.plot(column='station', ax=ax, cmap='tab10', markersize=4)\n",
    "\n",
    "#df_stations = gpd.GeoDataFrame(df_stations)\n",
    "df_stations.plot(ax=ax, color='black', markersize=8)"
   ]
  },
  {
   "cell_type": "markdown",
   "id": "9c7e3733-a34a-4e32-bd19-6832e9e34504",
   "metadata": {},
   "source": [
    "Now the dataframe `twitter_features` has a `station` column and it can be merged with the `weather_features` dataframe by that column (and by date, since `weather_features` has a date column)!"
   ]
  },
  {
   "cell_type": "code",
   "execution_count": 70,
   "id": "16d8eeb3-26cd-4b54-ad78-436e5fe49a54",
   "metadata": {},
   "outputs": [],
   "source": [
    "df = pd.merge(twitter_features, weather_features, on=['station', 'date'], how='left')"
   ]
  },
  {
   "cell_type": "code",
   "execution_count": 72,
   "id": "5102b3dd-62e5-4dcb-b090-dd34f2744ddb",
   "metadata": {},
   "outputs": [
    {
     "data": {
      "text/html": [
       "<div>\n",
       "<style scoped>\n",
       "    .dataframe tbody tr th:only-of-type {\n",
       "        vertical-align: middle;\n",
       "    }\n",
       "\n",
       "    .dataframe tbody tr th {\n",
       "        vertical-align: top;\n",
       "    }\n",
       "\n",
       "    .dataframe thead th {\n",
       "        text-align: right;\n",
       "    }\n",
       "</style>\n",
       "<table border=\"1\" class=\"dataframe\">\n",
       "  <thead>\n",
       "    <tr style=\"text-align: right;\">\n",
       "      <th></th>\n",
       "      <th>date</th>\n",
       "      <th>time</th>\n",
       "      <th>timestamp_x</th>\n",
       "      <th>municipality.name</th>\n",
       "      <th>hour_blocks</th>\n",
       "      <th>geometry_x</th>\n",
       "      <th>station</th>\n",
       "      <th>elevation</th>\n",
       "      <th>timestamp_y</th>\n",
       "      <th>minTemperature</th>\n",
       "      <th>...</th>\n",
       "      <th>winds.2145</th>\n",
       "      <th>winds.2200</th>\n",
       "      <th>winds.2215</th>\n",
       "      <th>winds.2230</th>\n",
       "      <th>winds.2245</th>\n",
       "      <th>winds.2300</th>\n",
       "      <th>winds.2315</th>\n",
       "      <th>winds.2330</th>\n",
       "      <th>winds.2345</th>\n",
       "      <th>geometry_y</th>\n",
       "    </tr>\n",
       "  </thead>\n",
       "  <tbody>\n",
       "    <tr>\n",
       "      <th>0</th>\n",
       "      <td>2013-11-01</td>\n",
       "      <td>00:04</td>\n",
       "      <td>1383260656</td>\n",
       "      <td>Trento</td>\n",
       "      <td>0000</td>\n",
       "      <td>POINT (11.13000 46.07000)</td>\n",
       "      <td>T0129</td>\n",
       "      <td>312.0</td>\n",
       "      <td>1.383260e+09</td>\n",
       "      <td>11.7</td>\n",
       "      <td>...</td>\n",
       "      <td>1.4@38</td>\n",
       "      <td>0.8@100</td>\n",
       "      <td>1.1@121</td>\n",
       "      <td>1.5@96</td>\n",
       "      <td>1.4@67</td>\n",
       "      <td>2@86</td>\n",
       "      <td>1.4@79</td>\n",
       "      <td>1.1@70</td>\n",
       "      <td>1.6@59</td>\n",
       "      <td>POINT (11.13565 46.07185)</td>\n",
       "    </tr>\n",
       "    <tr>\n",
       "      <th>1</th>\n",
       "      <td>2013-11-01</td>\n",
       "      <td>00:01</td>\n",
       "      <td>1383260474</td>\n",
       "      <td>Pinzolo</td>\n",
       "      <td>0000</td>\n",
       "      <td>POINT (10.83000 46.23000)</td>\n",
       "      <td>T0071</td>\n",
       "      <td>905.0</td>\n",
       "      <td>1.383260e+09</td>\n",
       "      <td>4.5</td>\n",
       "      <td>...</td>\n",
       "      <td></td>\n",
       "      <td>0@157</td>\n",
       "      <td></td>\n",
       "      <td>0.4@228</td>\n",
       "      <td>0.3@248</td>\n",
       "      <td></td>\n",
       "      <td>0@201</td>\n",
       "      <td>0@199</td>\n",
       "      <td></td>\n",
       "      <td>POINT (10.79583 46.31340)</td>\n",
       "    </tr>\n",
       "    <tr>\n",
       "      <th>2</th>\n",
       "      <td>2013-11-01</td>\n",
       "      <td>00:43</td>\n",
       "      <td>1383262983</td>\n",
       "      <td>Cavalese</td>\n",
       "      <td>0030</td>\n",
       "      <td>POINT (11.46000 46.29000)</td>\n",
       "      <td>T0367</td>\n",
       "      <td>958.0</td>\n",
       "      <td>1.383260e+09</td>\n",
       "      <td>7.0</td>\n",
       "      <td>...</td>\n",
       "      <td></td>\n",
       "      <td></td>\n",
       "      <td></td>\n",
       "      <td></td>\n",
       "      <td></td>\n",
       "      <td>0.1@216</td>\n",
       "      <td>0.2@205</td>\n",
       "      <td></td>\n",
       "      <td>0.6@264</td>\n",
       "      <td>POINT (11.45171 46.28478)</td>\n",
       "    </tr>\n",
       "    <tr>\n",
       "      <th>3</th>\n",
       "      <td>2013-11-01</td>\n",
       "      <td>00:38</td>\n",
       "      <td>1383262717</td>\n",
       "      <td>Rovereto</td>\n",
       "      <td>0030</td>\n",
       "      <td>POINT (11.04000 45.89000)</td>\n",
       "      <td>T0147</td>\n",
       "      <td>203.0</td>\n",
       "      <td>1.383260e+09</td>\n",
       "      <td>11.0</td>\n",
       "      <td>...</td>\n",
       "      <td>0.8@48</td>\n",
       "      <td>0.8@152</td>\n",
       "      <td>0.5@111</td>\n",
       "      <td>0.8@13</td>\n",
       "      <td>0.5@164</td>\n",
       "      <td>0.9@132</td>\n",
       "      <td>1.5@137</td>\n",
       "      <td>0.7@3</td>\n",
       "      <td>0.9@359</td>\n",
       "      <td>POINT (11.04379 45.89644)</td>\n",
       "    </tr>\n",
       "    <tr>\n",
       "      <th>4</th>\n",
       "      <td>2013-11-01</td>\n",
       "      <td>00:45</td>\n",
       "      <td>1383263140</td>\n",
       "      <td>San Michele all'Adige</td>\n",
       "      <td>0045</td>\n",
       "      <td>POINT (11.12000 46.20000)</td>\n",
       "      <td>T0408</td>\n",
       "      <td>204.0</td>\n",
       "      <td>1.383260e+09</td>\n",
       "      <td>9.6</td>\n",
       "      <td>...</td>\n",
       "      <td></td>\n",
       "      <td></td>\n",
       "      <td></td>\n",
       "      <td></td>\n",
       "      <td></td>\n",
       "      <td></td>\n",
       "      <td></td>\n",
       "      <td></td>\n",
       "      <td></td>\n",
       "      <td>POINT (11.10461 46.18723)</td>\n",
       "    </tr>\n",
       "  </tbody>\n",
       "</table>\n",
       "<p>5 rows × 303 columns</p>\n",
       "</div>"
      ],
      "text/plain": [
       "         date   time  timestamp_x      municipality.name hour_blocks  \\\n",
       "0  2013-11-01  00:04   1383260656                 Trento        0000   \n",
       "1  2013-11-01  00:01   1383260474                Pinzolo        0000   \n",
       "2  2013-11-01  00:43   1383262983               Cavalese        0030   \n",
       "3  2013-11-01  00:38   1383262717               Rovereto        0030   \n",
       "4  2013-11-01  00:45   1383263140  San Michele all'Adige        0045   \n",
       "\n",
       "                  geometry_x station  elevation   timestamp_y  minTemperature  \\\n",
       "0  POINT (11.13000 46.07000)   T0129      312.0  1.383260e+09            11.7   \n",
       "1  POINT (10.83000 46.23000)   T0071      905.0  1.383260e+09             4.5   \n",
       "2  POINT (11.46000 46.29000)   T0367      958.0  1.383260e+09             7.0   \n",
       "3  POINT (11.04000 45.89000)   T0147      203.0  1.383260e+09            11.0   \n",
       "4  POINT (11.12000 46.20000)   T0408      204.0  1.383260e+09             9.6   \n",
       "\n",
       "   ...  winds.2145 winds.2200  winds.2215  winds.2230  winds.2245  winds.2300  \\\n",
       "0  ...      1.4@38    0.8@100     1.1@121      1.5@96      1.4@67        2@86   \n",
       "1  ...                  0@157                 0.4@228     0.3@248               \n",
       "2  ...                                                                0.1@216   \n",
       "3  ...      0.8@48    0.8@152     0.5@111      0.8@13     0.5@164     0.9@132   \n",
       "4  ...                                                                          \n",
       "\n",
       "   winds.2315  winds.2330  winds.2345                 geometry_y  \n",
       "0      1.4@79      1.1@70      1.6@59  POINT (11.13565 46.07185)  \n",
       "1       0@201       0@199              POINT (10.79583 46.31340)  \n",
       "2     0.2@205                 0.6@264  POINT (11.45171 46.28478)  \n",
       "3     1.5@137       0.7@3     0.9@359  POINT (11.04379 45.89644)  \n",
       "4                                      POINT (11.10461 46.18723)  \n",
       "\n",
       "[5 rows x 303 columns]"
      ]
     },
     "execution_count": 72,
     "metadata": {},
     "output_type": "execute_result"
    }
   ],
   "source": [
    "df.head()"
   ]
  },
  {
   "cell_type": "markdown",
   "id": "b202319f-6e7c-4867-ba35-6daaa9893ac9",
   "metadata": {},
   "source": [
    "It is noticeable that after the merge some columns are named with a `_x` or `_y`suffix. That's because they have the same name in the parents dataframes but we do not merge by those. We decide to remove from `df` the columns corresponding to the location of the station and the timestamp of the station."
   ]
  },
  {
   "cell_type": "code",
   "execution_count": 75,
   "id": "c3b350f1-74dd-44b3-958f-fd05b7930af7",
   "metadata": {},
   "outputs": [],
   "source": [
    "df = df.drop(['timestamp_y', 'geometry_y'], axis=1)"
   ]
  },
  {
   "cell_type": "markdown",
   "id": "fa738ce6-aff3-4db7-85fe-40cc0185112b",
   "metadata": {},
   "source": [
    "Lastly (just for this first merge, don't worry), we need to select the right temperature, precipitation and wind values to keep in the dataframe, since we just need those that match the 15-minutes blocks of the tweets."
   ]
  },
  {
   "cell_type": "code",
   "execution_count": 79,
   "id": "d9e83805-b16c-41f0-94dc-c8abfa4beebb",
   "metadata": {},
   "outputs": [],
   "source": [
    "def get_temperature(row):\n",
    "    str = 'temperatures.' + row['hour_blocks']\n",
    "    return row[str]\n",
    "df['temperature'] = df.apply(get_temperature, axis=1)"
   ]
  },
  {
   "cell_type": "code",
   "execution_count": 80,
   "id": "5b5a396f-6f9d-46a5-b2a1-236e3f9e2806",
   "metadata": {},
   "outputs": [],
   "source": [
    "def get_precipitation(row):\n",
    "    str = 'precipitations.' + row['hour_blocks']\n",
    "    return row[str]\n",
    "df['precipitation'] = df.apply(get_precipitation, axis=1)"
   ]
  },
  {
   "cell_type": "code",
   "execution_count": 81,
   "id": "10e0f1ec-04b0-435d-9f6a-541307cd2196",
   "metadata": {},
   "outputs": [],
   "source": [
    "def get_wind(row):\n",
    "    str = 'winds.' + row['hour_blocks']\n",
    "    return row[str]\n",
    "df['wind'] = df.apply(get_wind, axis=1)"
   ]
  },
  {
   "cell_type": "markdown",
   "id": "c5973624-922f-4567-9527-c4f30f2cb015",
   "metadata": {},
   "source": [
    "And we can drop all the other temperature, precipitation and wind columns:"
   ]
  },
  {
   "cell_type": "code",
   "execution_count": 82,
   "id": "b1557caa-3a5e-40e7-90de-7eda3b448a63",
   "metadata": {},
   "outputs": [],
   "source": [
    "df = df.drop([col for col in df.columns if col.startswith('temperatures.')], axis=1)\n",
    "df = df.drop([col for col in df.columns if col.startswith('precipitations.')], axis=1)\n",
    "df = df.drop([col for col in df.columns if col.startswith('winds.')], axis=1)"
   ]
  },
  {
   "cell_type": "code",
   "execution_count": 83,
   "id": "391e06cc-97ab-4a9f-8c5e-4fb453d9c204",
   "metadata": {},
   "outputs": [
    {
     "data": {
      "text/html": [
       "<div>\n",
       "<style scoped>\n",
       "    .dataframe tbody tr th:only-of-type {\n",
       "        vertical-align: middle;\n",
       "    }\n",
       "\n",
       "    .dataframe tbody tr th {\n",
       "        vertical-align: top;\n",
       "    }\n",
       "\n",
       "    .dataframe thead th {\n",
       "        text-align: right;\n",
       "    }\n",
       "</style>\n",
       "<table border=\"1\" class=\"dataframe\">\n",
       "  <thead>\n",
       "    <tr style=\"text-align: right;\">\n",
       "      <th></th>\n",
       "      <th>date</th>\n",
       "      <th>time</th>\n",
       "      <th>timestamp_x</th>\n",
       "      <th>municipality.name</th>\n",
       "      <th>hour_blocks</th>\n",
       "      <th>geometry_x</th>\n",
       "      <th>station</th>\n",
       "      <th>elevation</th>\n",
       "      <th>minTemperature</th>\n",
       "      <th>maxTemperature</th>\n",
       "      <th>precipitation</th>\n",
       "      <th>minWind</th>\n",
       "      <th>maxWind</th>\n",
       "      <th>temperature</th>\n",
       "      <th>wind</th>\n",
       "    </tr>\n",
       "  </thead>\n",
       "  <tbody>\n",
       "    <tr>\n",
       "      <th>0</th>\n",
       "      <td>2013-11-01</td>\n",
       "      <td>00:04</td>\n",
       "      <td>1383260656</td>\n",
       "      <td>Trento</td>\n",
       "      <td>0000</td>\n",
       "      <td>POINT (11.13000 46.07000)</td>\n",
       "      <td>T0129</td>\n",
       "      <td>312.0</td>\n",
       "      <td>11.7</td>\n",
       "      <td>16.0</td>\n",
       "      <td>0.0</td>\n",
       "      <td>0.2</td>\n",
       "      <td>2.0</td>\n",
       "      <td>13.2</td>\n",
       "      <td>1@47</td>\n",
       "    </tr>\n",
       "    <tr>\n",
       "      <th>1</th>\n",
       "      <td>2013-11-01</td>\n",
       "      <td>00:01</td>\n",
       "      <td>1383260474</td>\n",
       "      <td>Pinzolo</td>\n",
       "      <td>0000</td>\n",
       "      <td>POINT (10.83000 46.23000)</td>\n",
       "      <td>T0071</td>\n",
       "      <td>905.0</td>\n",
       "      <td>4.5</td>\n",
       "      <td>12.3</td>\n",
       "      <td>0.0</td>\n",
       "      <td>0.0</td>\n",
       "      <td>2.5</td>\n",
       "      <td>8.4</td>\n",
       "      <td>0.1@205</td>\n",
       "    </tr>\n",
       "    <tr>\n",
       "      <th>2</th>\n",
       "      <td>2013-11-01</td>\n",
       "      <td>00:43</td>\n",
       "      <td>1383262983</td>\n",
       "      <td>Cavalese</td>\n",
       "      <td>0030</td>\n",
       "      <td>POINT (11.46000 46.29000)</td>\n",
       "      <td>T0367</td>\n",
       "      <td>958.0</td>\n",
       "      <td>7.0</td>\n",
       "      <td>13.0</td>\n",
       "      <td>0.0</td>\n",
       "      <td>0.0</td>\n",
       "      <td>1.8</td>\n",
       "      <td>8.8</td>\n",
       "      <td></td>\n",
       "    </tr>\n",
       "    <tr>\n",
       "      <th>3</th>\n",
       "      <td>2013-11-01</td>\n",
       "      <td>00:38</td>\n",
       "      <td>1383262717</td>\n",
       "      <td>Rovereto</td>\n",
       "      <td>0030</td>\n",
       "      <td>POINT (11.04000 45.89000)</td>\n",
       "      <td>T0147</td>\n",
       "      <td>203.0</td>\n",
       "      <td>11.0</td>\n",
       "      <td>18.4</td>\n",
       "      <td>0.0</td>\n",
       "      <td>0.2</td>\n",
       "      <td>1.9</td>\n",
       "      <td>13.2</td>\n",
       "      <td>0.6@7</td>\n",
       "    </tr>\n",
       "    <tr>\n",
       "      <th>4</th>\n",
       "      <td>2013-11-01</td>\n",
       "      <td>00:45</td>\n",
       "      <td>1383263140</td>\n",
       "      <td>San Michele all'Adige</td>\n",
       "      <td>0045</td>\n",
       "      <td>POINT (11.12000 46.20000)</td>\n",
       "      <td>T0408</td>\n",
       "      <td>204.0</td>\n",
       "      <td>9.6</td>\n",
       "      <td>16.9</td>\n",
       "      <td>0.0</td>\n",
       "      <td>NaN</td>\n",
       "      <td>NaN</td>\n",
       "      <td>11.6</td>\n",
       "      <td></td>\n",
       "    </tr>\n",
       "  </tbody>\n",
       "</table>\n",
       "</div>"
      ],
      "text/plain": [
       "         date   time  timestamp_x      municipality.name hour_blocks  \\\n",
       "0  2013-11-01  00:04   1383260656                 Trento        0000   \n",
       "1  2013-11-01  00:01   1383260474                Pinzolo        0000   \n",
       "2  2013-11-01  00:43   1383262983               Cavalese        0030   \n",
       "3  2013-11-01  00:38   1383262717               Rovereto        0030   \n",
       "4  2013-11-01  00:45   1383263140  San Michele all'Adige        0045   \n",
       "\n",
       "                  geometry_x station  elevation  minTemperature  \\\n",
       "0  POINT (11.13000 46.07000)   T0129      312.0            11.7   \n",
       "1  POINT (10.83000 46.23000)   T0071      905.0             4.5   \n",
       "2  POINT (11.46000 46.29000)   T0367      958.0             7.0   \n",
       "3  POINT (11.04000 45.89000)   T0147      203.0            11.0   \n",
       "4  POINT (11.12000 46.20000)   T0408      204.0             9.6   \n",
       "\n",
       "   maxTemperature  precipitation  minWind  maxWind  temperature     wind  \n",
       "0            16.0            0.0      0.2      2.0         13.2     1@47  \n",
       "1            12.3            0.0      0.0      2.5          8.4  0.1@205  \n",
       "2            13.0            0.0      0.0      1.8          8.8           \n",
       "3            18.4            0.0      0.2      1.9         13.2    0.6@7  \n",
       "4            16.9            0.0      NaN      NaN         11.6           "
      ]
     },
     "execution_count": 83,
     "metadata": {},
     "output_type": "execute_result"
    }
   ],
   "source": [
    "df.head()"
   ]
  },
  {
   "cell_type": "markdown",
   "id": "867bda48-23bd-41e5-9a9e-46be5c3471e3",
   "metadata": {},
   "source": [
    "At this point, Twitter and weather data are merged. Let's move on to electrical data."
   ]
  },
  {
   "cell_type": "code",
   "execution_count": null,
   "id": "91992844-881e-480d-bdb9-a4625aad154d",
   "metadata": {},
   "outputs": [],
   "source": []
  }
 ],
 "metadata": {
  "kernelspec": {
   "display_name": "Python 3 (ipykernel)",
   "language": "python",
   "name": "python3"
  },
  "language_info": {
   "codemirror_mode": {
    "name": "ipython",
    "version": 3
   },
   "file_extension": ".py",
   "mimetype": "text/x-python",
   "name": "python",
   "nbconvert_exporter": "python",
   "pygments_lexer": "ipython3",
   "version": "3.12.2"
  }
 },
 "nbformat": 4,
 "nbformat_minor": 5
}
